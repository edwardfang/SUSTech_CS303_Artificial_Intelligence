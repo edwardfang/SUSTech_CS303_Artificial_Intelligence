{
 "cells": [
  {
   "cell_type": "code",
   "execution_count": 133,
   "metadata": {},
   "outputs": [],
   "source": [
    "import numpy as np\n",
    "import graph\n",
    "import digraph\n",
    "reload(graph)\n",
    "reload(digraph)\n",
    "from graph import Graph\n",
    "from digraph import DiGraph\n",
    "from collections import defaultdict\n",
    "from itertools import tee, izip\n",
    "import copy\n",
    "import random\n",
    "from random import shuffle"
   ]
  },
  {
   "cell_type": "markdown",
   "metadata": {},
   "source": [
    "## Preparation Functions/Classes"
   ]
  },
  {
   "cell_type": "code",
   "execution_count": 2,
   "metadata": {},
   "outputs": [],
   "source": [
    "def read_instance_file(filename):\n",
    "    '''\n",
    "    ::param: filename: string, filename that indicates the location of instance data file\n",
    "    ::return value: (specification, data)\n",
    "    :: specification: dict, specification of the instance\n",
    "    :: data: the numpy array with a list of edges and their cost, demand\n",
    "    :: data: [vertex1 vertex2 cost demand]\n",
    "    '''\n",
    "    fd = open(inputfile)\n",
    "    content = fd.readlines()\n",
    "    content = [x.strip() for x in content] \n",
    "    specification = dict()\n",
    "    for i in range(8):\n",
    "        line = content[i].split(':')\n",
    "        specification[line[0].strip()] = line[1].strip()\n",
    "    # print(specification)\n",
    "    data = list()\n",
    "    for line in content[9:-1]:\n",
    "        tmp = line.split()\n",
    "        data.append([int(x.strip()) for x in tmp])\n",
    "    data = np.array(data)\n",
    "    fd.close()\n",
    "    return specification, data"
   ]
  },
  {
   "cell_type": "code",
   "execution_count": 3,
   "metadata": {},
   "outputs": [],
   "source": [
    "'''\n",
    "filelist CARP_samples\n",
    "egl-e1-A.dat  gdb10.dat  val1A.dat  val7A.dat\n",
    "egl-s1-A.dat  gdb1.dat   val4A.dat\n",
    "'''\n",
    "inputfile = 'CARP_samples/egl-s1-A.dat'"
   ]
  },
  {
   "cell_type": "code",
   "execution_count": 4,
   "metadata": {},
   "outputs": [
    {
     "data": {
      "text/plain": [
       "<module 'graph' from 'graph.pyc'>"
      ]
     },
     "execution_count": 4,
     "metadata": {},
     "output_type": "execute_result"
    }
   ],
   "source": [
    "# reload graph.py\n",
    "reload(graph)"
   ]
  },
  {
   "cell_type": "markdown",
   "metadata": {},
   "source": [
    "## Read the graph into Data Structure"
   ]
  },
  {
   "cell_type": "code",
   "execution_count": 5,
   "metadata": {},
   "outputs": [],
   "source": [
    "spec, data = read_instance_file(inputfile)\n",
    "gf = Graph()\n",
    "gf.load_from_data(data.tolist())"
   ]
  },
  {
   "cell_type": "code",
   "execution_count": 6,
   "metadata": {},
   "outputs": [
    {
     "name": "stdout",
     "output_type": "stream",
     "text": [
      "{'NON-REQUIRED EDGES': '115', 'VEHICLES': '7', 'CAPACITY': '210', 'NAME': 'egl-s1-A', 'TOTAL COST OF REQUIRED EDGES': '1394', 'REQUIRED EDGES': '75', 'VERTICES': '140', 'DEPOT': '1'}\n"
     ]
    }
   ],
   "source": [
    "# print(gf)\n",
    "print(spec)\n",
    "# print(gf.get_tasks())"
   ]
  },
  {
   "cell_type": "code",
   "execution_count": 7,
   "metadata": {},
   "outputs": [],
   "source": [
    "capacity = int(spec['CAPACITY'])\n",
    "depot = int(spec['DEPOT'])"
   ]
  },
  {
   "cell_type": "code",
   "execution_count": 8,
   "metadata": {},
   "outputs": [
    {
     "name": "stdout",
     "output_type": "stream",
     "text": [
      "([1, 116, 117, 119, 120, 121, 122, 87, 86, 85, 84, 82, 80, 79, 78, 77, 46, 43, 44, 45, 34, 139, 33, 11, 12, 13, 17, 18], 423)\n"
     ]
    }
   ],
   "source": [
    "# test\n",
    "print(gf.get_shortest_path(1,18))"
   ]
  },
  {
   "cell_type": "code",
   "execution_count": 9,
   "metadata": {},
   "outputs": [
    {
     "data": {
      "text/plain": [
       "{9: {'cost': 12}, 15: {'cost': 13}, 19: {'cost': 28}}"
      ]
     },
     "execution_count": 9,
     "metadata": {},
     "output_type": "execute_result"
    }
   ],
   "source": [
    "gf[10]"
   ]
  },
  {
   "cell_type": "markdown",
   "metadata": {},
   "source": [
    "## Initialization\n",
    "### Path-Scanning Simple"
   ]
  },
  {
   "cell_type": "code",
   "execution_count": 318,
   "metadata": {},
   "outputs": [],
   "source": [
    "def which_better(u1, u2, graph, load, capacity, depot):\n",
    "    import random\n",
    "    r_cq1 = graph[u1[0]][u1[1]]['cost']/graph[u1[0]][u1[1]]['demand']\n",
    "    r_cq2 = graph[u2[0]][u2[1]]['cost']/graph[u2[0]][u2[1]]['demand']\n",
    "    return_cost1 = graph.get_shortest_path(u1[1], depot)[1]\n",
    "    return_cost2 = graph.get_shortest_path(u2[1], depot)[1]\n",
    "    # print(u1,u2)\n",
    "    '''\n",
    "    if load < capacity/2:\n",
    "        if r_cq1 > r_cq2:\n",
    "            return u1\n",
    "        elif r_cq1 < r_cq2:\n",
    "            return u2\n",
    "        elif return_cost1 > return_cost2:\n",
    "            return u1\n",
    "        elif return_cost1 < return_cost2:\n",
    "            return u2\n",
    "        else:     \n",
    "            return random.choice([u1, u2])\n",
    "    else:\n",
    "        if r_cq1 < r_cq2:\n",
    "            return u1\n",
    "        elif r_cq1 > r_cq2:\n",
    "            return u2\n",
    "        elif return_cost1 < return_cost2:\n",
    "            return u1\n",
    "        elif return_cost1 > return_cost2:\n",
    "            return u2\n",
    "        else:\n",
    "            return random.choice([u1, u2])\n",
    "    '''\n",
    "    # random better\n",
    "    rule = random.choice([0,1,2,3,4])\n",
    "    if rule == 0:\n",
    "        if r_cq1 > r_cq2:\n",
    "            return u1load\n",
    "        elif r_cq1 < r_cq2:\n",
    "            return u2\n",
    "        else:     \n",
    "            return random.choice([u1, u2])\n",
    "    elif rule == 1:\n",
    "        if return_cost1 > return_cost2:\n",
    "            return u1\n",
    "        elif return_cost1 < return_cost2:\n",
    "            return u2\n",
    "        else:     \n",
    "            return random.choice([u1, u2])\n",
    "    elif rule == 2:\n",
    "        if r_cq1 < r_cq2:\n",
    "            return u1\n",
    "        elif r_cq1 > r_cq2:\n",
    "            return u2\n",
    "        else:     \n",
    "            return random.choice([u1, u2])\n",
    "    elif rule == 3:\n",
    "        if return_cost1 < return_cost2:\n",
    "            return u1\n",
    "        elif return_cost1 > return_cost2:\n",
    "            return u2\n",
    "        else:\n",
    "            return random.choice([u1, u2])\n",
    "    elif rule == 4:\n",
    "        if load < capacity/2:\n",
    "            if return_cost1 > return_cost2:\n",
    "                return u1\n",
    "            elif return_cost1 < return_cost2:\n",
    "                return u2\n",
    "            else:     \n",
    "                return random.choice([u1, u2])\n",
    "        else:\n",
    "            if return_cost1 < return_cost2:\n",
    "                return u1\n",
    "            elif return_cost1 > return_cost2:\n",
    "                return u2\n",
    "            else:\n",
    "                return random.choice([u1, u2])\n",
    "\n",
    "def ps_to_chromesome(solution):\n",
    "    '''\n",
    "    input pathscanning solution\n",
    "    output chromesome rep\n",
    "    '''\n",
    "    result = list()\n",
    "    for k,v in solution.iteritems():\n",
    "        result += v\n",
    "    return result\n",
    "        \n",
    "def path_scanning(graph, depot):\n",
    "    k = 0\n",
    "    R = defaultdict(dict)\n",
    "    load = defaultdict(dict)\n",
    "    cost = defaultdict(dict)\n",
    "    free_task = set(graph.get_tasks())\n",
    "    while len(free_task) > 0:\n",
    "        k += 1\n",
    "        R[k] = list()\n",
    "        load[k], cost[k] = 0, 0\n",
    "        end = depot\n",
    "        u = None\n",
    "        #print(\"############ beign #############\")\n",
    "        while True:\n",
    "            if len(free_task) == 0:\n",
    "                break\n",
    "            d_min = float('inf')\n",
    "            for f_task in free_task:\n",
    "#                 if f_task == (106,105):\n",
    "#                     print(load[k], graph[f_task[0]][f_task[1]]['demand'])\n",
    "                if graph[f_task[0]][f_task[1]]['demand'] + load[k] > capacity:\n",
    "                    continue\n",
    "                if u == None:\n",
    "                    u = f_task\n",
    "                    d_min = graph.get_shortest_path(end, f_task[0])[1]\n",
    "                d_tmp = graph.get_shortest_path(end, f_task[0])[1]\n",
    "                # print(d_tmp,d_min, end,f_task, u)\n",
    "                if d_tmp < d_min:\n",
    "                    d_min = d_tmp\n",
    "                    u = f_task\n",
    "                elif d_tmp == d_min:\n",
    "                    d_min = d_tmp\n",
    "                    #print(u)\n",
    "                    u = which_better(u, f_task, gf, load[k], capacity, depot)\n",
    "                    #print(u)\n",
    "            if d_min == float('inf'):\n",
    "                break\n",
    "            #if u != None:\n",
    "            R[k].append(u)\n",
    "            free_task.remove(u)\n",
    "            free_task.remove((u[1],u[0]))\n",
    "            cost[k] += graph[u[0]][u[1]]['cost'] + d_min\n",
    "            load[k] += graph[u[0]][u[1]]['demand']\n",
    "            end = u[1]\n",
    "        cost[k] += graph.get_shortest_path(u[1], depot)[1]\n",
    "        #print(\"############ end #############\")\n",
    "    return R, load, cost"
   ]
  },
  {
   "cell_type": "markdown",
   "metadata": {},
   "source": [
    "### Augment-merge"
   ]
  },
  {
   "cell_type": "code",
   "execution_count": 11,
   "metadata": {},
   "outputs": [],
   "source": [
    "def concate_circles(graph, circle1, circle2, idx1, idx2):\n",
    "    \"\"\"\n",
    "    params: circle: the path\n",
    "    return [circle_list, overpapping_best, cost_largest]\n",
    "    \"\"\"\n",
    "    overlapping_best = (0, 0)\n",
    "    cost_largest = 0 # largest saving cost\n",
    "    for p1, val1 in enumerate(circle1[-1:-1-idx1:-1]):\n",
    "        for p2, val2 in enumerate(circle2[0:idx2]):\n",
    "            if val1 == val2:\n",
    "                cost_save_1 = Graph.calculate_path_cost(gf,circle1[-1:-1-p1-1])\n",
    "                cost_save_2 = Graph.calculate_path_cost(gf,circle2[0:p2+1])\n",
    "                save_total = cost_save_1 + cost_save_2\n",
    "                if cost_largest<save_total:\n",
    "                    overlapping_best = (p1,p2)\n",
    "                    cost_largest = save_total\n",
    "#     if cost_largest is 0:\n",
    "#         print(\"gg\", circle1, circle2, idx1, idx2)\n",
    "    return circle1[:-1-overlapping_best[0]]+circle2[overlapping_best[1]:], overlapping_best, cost_largest\n",
    "\n",
    "def get_first_last_req(circle):\n",
    "    \"\"\"\n",
    "    params circle: dict\n",
    "    \"\"\"\n",
    "    first, last = 0, 0\n",
    "    for idx, val in enumerate(circle['circle'][-1::-1]):\n",
    "        required = False\n",
    "        for required_e in circle['aq_set']:\n",
    "            if val in required_e:\n",
    "                last = idx\n",
    "                # print(val, required_e)\n",
    "                required = True\n",
    "                break\n",
    "        if required:\n",
    "            break\n",
    "    for idx, val in enumerate(circle['circle']):\n",
    "        required = False\n",
    "        for required_e in circle['aq_set']:\n",
    "            if val in required_e:\n",
    "                first = idx\n",
    "                required = True\n",
    "                break\n",
    "        if required:\n",
    "            break\n",
    "    return first,last\n",
    "\n",
    "def merge_circles(graph, circle1, circle2):\n",
    "    if circle1['load'] + circle2['load'] > capacity:\n",
    "        return None\n",
    "    idx1 = get_first_last_req(circle1)\n",
    "    idx2 = get_first_last_req(circle2)\n",
    "    # print(idx1,idx2)\n",
    "    results = list()\n",
    "    results.append(concate_circles(graph, circle1['circle'], circle2['circle'], idx1[1], idx2[0]))\n",
    "    results.append(concate_circles(graph, circle1['circle'][::-1], circle2['circle'], idx1[0], idx2[0]))\n",
    "    results.append(concate_circles(graph, circle2['circle'], circle1['circle'], idx2[1], idx1[0]))\n",
    "    results.append(concate_circles(graph, circle2['circle'], circle1['circle'][::-1], idx2[1], idx1[1]))\n",
    "    max_save = 0\n",
    "    new_circle = None\n",
    "    for result in results:\n",
    "        if result[2]>=max_save:\n",
    "            new_circle = result[0]\n",
    "            max_save = result[2]\n",
    "    if new_circle == None:\n",
    "        # print(results)\n",
    "        return None\n",
    "    return {'circle':new_circle,'cost':circle1['cost']+circle2['cost']-max_save, 'saving': max_save, \n",
    "            'load':circle1['load'] + circle2['load'], 'aq_set':circle1['aq_set'].union(circle2['aq_set'])}"
   ]
  },
  {
   "cell_type": "code",
   "execution_count": 12,
   "metadata": {},
   "outputs": [],
   "source": [
    "\n",
    "def pairwise(iterable):\n",
    "    \"s -> (s0,s1), (s1,s2), (s2, s3), ...\"\n",
    "    a, b = tee(iterable)\n",
    "    next(b, None)\n",
    "    return izip(a, b)\n",
    "\n",
    "def is_inclueded(path, target):\n",
    "    inv_target =  (target[1], target[0])\n",
    "    for edge in pairwise(path):\n",
    "        # print(target, edge)\n",
    "        if target == edge or inv_target == edge:\n",
    "            return True\n",
    "    return False\n",
    "\n",
    "def augment_merge(graph, depot):\n",
    "    # init routes\n",
    "    k = 0\n",
    "    free_tasks = set(graph.get_tasks_unique())\n",
    "    R = defaultdict(dict)\n",
    "    # cost = defaultdict(dict)\n",
    "    for f_task in free_tasks:\n",
    "        x = graph.get_shortest_path(depot, f_task[0])\n",
    "        y = graph.get_shortest_path(f_task[1], depot)\n",
    "        if x[1]==0:\n",
    "            x = ([depot,],y[1])\n",
    "        if y[1]==0:\n",
    "            y[0] = ([depot,],x[1])\n",
    "        R[k]['circle'] = x[0]+y[0]\n",
    "        R[k]['cost'] = x[1]+y[1]\n",
    "        R[k]['load'] = graph[f_task[0]][f_task[1]]['demand']\n",
    "        R[k]['aq_set'] = set()\n",
    "        R[k]['aq_set'].add(f_task)\n",
    "        #print(f_task, R[k], cost[k])\n",
    "        k += 1\n",
    "    # augment phase\n",
    "    R_sorted = sorted(R.iteritems(), key=lambda (k,v):len(v['circle']), reverse=True)\n",
    "    deleted = set()\n",
    "    for idx, circle in enumerate(R_sorted):\n",
    "        for smaller_circle in R_sorted[idx+1:]:\n",
    "            if smaller_circle[0] in deleted:\n",
    "                continue\n",
    "            if circle[1]['load'] + smaller_circle[1]['load'] > capacity:\n",
    "                continue\n",
    "            #print(smaller_circle[1][1]['aq_set'])\n",
    "            flag_include = True\n",
    "            for edge in smaller_circle[1]['aq_set']:\n",
    "                #print(circle)\n",
    "                if not is_inclueded(circle[1]['circle'],edge):\n",
    "                    flag_include = False\n",
    "            if flag_include:\n",
    "                deleted.add(smaller_circle[0])\n",
    "                circle[1]['aq_set'] = circle[1]['aq_set'].union(smaller_circle[1]['aq_set'])\n",
    "                circle[1]['load'] += smaller_circle[1]['load']\n",
    "                #print(\"[oK]\", circle, smaller_circle)\n",
    "    R_aug = list()\n",
    "    for circle in R_sorted:\n",
    "        if circle[0] not in deleted:\n",
    "            circle[1]['delete'] = False\n",
    "            R_aug.append(circle[1])\n",
    "    '''\n",
    "    no augment phase\n",
    "    \n",
    "    deleted = set()\n",
    "    R_sorted = sorted(R.iteritems(), key=lambda (k,v):len(v['circle']), reverse=True)\n",
    "#     for idx, circle in enumerate(R_sorted):\n",
    "#         for edge in free_tasks:\n",
    "#             if is_inclueded(circle[1]['circle'],edge):\n",
    "#                 circle[1]['aq_set'].add(edge)\n",
    "#                 circle[1]['load'] += graph[edge[0]][edge[1]]['demand']\n",
    "#                 if circle[1]['load'] > capacity:\n",
    "#                     print(circle[1]['load'])\n",
    "#                     deleted.add(circle[0])\n",
    "#                     break\n",
    "    #print(R_sorted)\n",
    "    R_aug = list()\n",
    "    for circle in R_sorted:\n",
    "        circle[1]['delete'] = False\n",
    "        R_aug.append(circle[1])\n",
    "'''\n",
    "    # merge phase\n",
    "    while True:\n",
    "        merge_res = list()\n",
    "        merge_next = list()\n",
    "        for idx1, circle1 in enumerate(R_aug):\n",
    "            for idx2, circle2 in enumerate(R_aug[idx1+1:]):\n",
    "                #print(graph, circle1, circle2)\n",
    "                tmp = merge_circles(graph, circle1, circle2)\n",
    "                if tmp:\n",
    "                    merge_res.append((tmp, idx1, idx1+idx2+1))\n",
    "                    #print(tmp, idx1, idx2+idx1+1, circle1, circle2)\n",
    "        if len(merge_res) is 0:\n",
    "            break\n",
    "        merge_res = sorted(merge_res, key=lambda (tmp,idx1,idx2):tmp['saving'], reverse=True)\n",
    "        for merger in merge_res:\n",
    "            if not R_aug[merger[1]]['delete'] and not R_aug[merger[2]]['delete']:\n",
    "                # print(merger[1],merger[2])\n",
    "                R_aug[merger[1]]['delete'] = True\n",
    "                R_aug[merger[2]]['delete'] = True\n",
    "                del(merger[0]['saving'])\n",
    "                merger[0]['delete'] = False\n",
    "                merge_next.append(merger[0])\n",
    "        for circle in R_aug:\n",
    "            if not circle['delete']:\n",
    "                # print(circle)\n",
    "                merge_next.append(circle)\n",
    "        R_aug = merge_next\n",
    "    R_final = R_aug\n",
    "    \"\"\"\n",
    "    augment\n",
    "    \"\"\"\n",
    "    \"\"\"\n",
    "    for idx, circle in enumerate(R_aug):\n",
    "        for edge in free_tasks:\n",
    "            if is_inclueded(circle['circle'],edge):\n",
    "                if circle['load'] + graph[edge[0]][edge[1]]['demand'] > capacity:\n",
    "                    continue\n",
    "                circle['aq_set'].add(edge)\n",
    "                circle['load'] += graph[edge[0]][edge[1]]['demand']\n",
    "    deleted = set()\n",
    "    R_final = sorted(R_final, key=lambda v:len(v['circle']), reverse=True)\n",
    "    for idx, circle in enumerate(R_final):\n",
    "        for id2, smaller_circle in enumerate(R_final[idx+1:]):\n",
    "            if id2 + idx + 1 in deleted:\n",
    "                continue\n",
    "            flag_include = True\n",
    "            for edge in smaller_circle['aq_set']:\n",
    "                #print(circle)\n",
    "                if edge not in circle['aq_set']:\n",
    "                    flag_include = False\n",
    "            if flag_include:\n",
    "                deleted.add(id2 + idx + 1)\n",
    "                circle['aq_set'] = circle['aq_set'].union(smaller_circle['aq_set'])\n",
    "                circle['load'] += smaller_circle['load']\n",
    "                #print(\"[oK]\", circle, smaller_circle)\n",
    "    result = list()\n",
    "    for idx, circle in enumerate(R_final):\n",
    "        if idx not in deleted:\n",
    "            result.append(circle)\n",
    "    \"\"\"\n",
    "    return R_final\n",
    "\n",
    "def am_to_chromesome(am_solution):\n",
    "    result = list()\n",
    "    for item in am_solution:\n",
    "        circle = item['circle']\n",
    "        for p in pairwise(circle):\n",
    "            tmp = Graph.get_unique_edge(p)\n",
    "            if tmp in item['aq_set'] and p not in result and p[::-1] not in result:\n",
    "                result.append(p)\n",
    "    return result"
   ]
  },
  {
   "cell_type": "code",
   "execution_count": 152,
   "metadata": {},
   "outputs": [],
   "source": [
    "def random_init(graph, depot):\n",
    "    tasks = graph.get_tasks_unique()\n",
    "    solution = list(tasks)\n",
    "    shuffle(solution)\n",
    "    def flip(task):\n",
    "        if random.random() < 0.5:\n",
    "            return (task[1],task[0])\n",
    "        else:\n",
    "            return task\n",
    "    solution = map(flip, solution)\n",
    "    return solution"
   ]
  },
  {
   "cell_type": "code",
   "execution_count": 137,
   "metadata": {},
   "outputs": [
    {
     "data": {
      "text/plain": [
       "0.7421658904420674"
      ]
     },
     "execution_count": 137,
     "metadata": {},
     "output_type": "execute_result"
    }
   ],
   "source": []
  },
  {
   "cell_type": "code",
   "execution_count": 323,
   "metadata": {
    "scrolled": false
   },
   "outputs": [
    {
     "name": "stdout",
     "output_type": "stream",
     "text": [
      "(10668, 1394)\n",
      "(defaultdict(<type 'dict'>, {1: [(1, 116), (116, 117), (117, 2), (117, 119), (118, 114), (114, 113), (113, 112), (112, 107), (107, 106), (106, 105), (97, 98)], 2: [(112, 110), (110, 107), (107, 108), (108, 109), (110, 111), (105, 104), (104, 102), (63, 62), (63, 64), (56, 55), (69, 71)], 3: [(87, 86), (86, 85), (85, 84), (84, 82), (82, 80), (80, 79), (79, 78), (78, 77), (77, 46), (46, 43), (43, 44), (44, 45), (45, 34), (44, 73)], 4: [(124, 126), (126, 130), (66, 62), (64, 65), (55, 140), (140, 49), (49, 48), (55, 54), (139, 34), (69, 67)], 5: [(66, 67), (67, 68), (71, 72), (72, 73), (43, 37), (37, 36), (36, 38), (38, 39), (39, 40), (139, 33), (33, 11), (12, 13), (27, 28)], 6: [(95, 96), (96, 97), (11, 12), (13, 14), (11, 8), (8, 6), (6, 5), (8, 9), (20, 22), (24, 25)], 7: [(11, 27), (27, 25), (24, 20), (28, 30), (30, 32), (28, 29)]}), defaultdict(<type 'dict'>, {1: 210, 2: 209, 3: 208, 4: 209, 5: 209, 6: 209, 7: 140}), defaultdict(<type 'dict'>, {1: 656, 2: 904, 3: 581, 4: 1054, 5: 1157, 6: 1410, 7: 1023}))\n"
     ]
    }
   ],
   "source": [
    "init_solution1 = path_scanning(gf, depot)\n",
    "init_solution2 = augment_merge(gf, depot)\n",
    "def get_cost(solution):\n",
    "    cost = 0\n",
    "    demand = 0\n",
    "    for circle in solution:\n",
    "        cost += circle['cost']\n",
    "        demand += circle['load']\n",
    "    print(cost, demand)\n",
    "get_cost(init_solution2)\n",
    "\n",
    "print(init_solution1)\n",
    "# print(init_solution2)"
   ]
  },
  {
   "cell_type": "code",
   "execution_count": 398,
   "metadata": {},
   "outputs": [
    {
     "data": {
      "text/plain": [
       "6254"
      ]
     },
     "execution_count": 398,
     "metadata": {},
     "output_type": "execute_result"
    }
   ],
   "source": [
    "solution_verify(chromesome_partition(ps_to_chromesome(path_scanning(gf, depot)[0]), gf), gf)[2]"
   ]
  },
  {
   "cell_type": "code",
   "execution_count": 70,
   "metadata": {},
   "outputs": [
    {
     "name": "stdout",
     "output_type": "stream",
     "text": [
      "([(1, 116), (116, 117), (117, 119), (117, 2), (118, 114), (114, 113), (113, 112), (112, 110), (110, 107), (107, 112), (110, 111), (106, 105), (97, 98), (107, 106), (105, 104), (104, 102), (66, 62), (62, 63), (63, 64), (64, 65), (56, 55), (55, 54), (55, 140), (140, 49), (49, 48), (139, 33), (12, 13), (107, 108), (108, 109), (66, 67), (67, 68), (67, 69), (69, 71), (71, 72), (72, 73), (87, 86), (86, 85), (85, 84), (84, 82), (82, 80), (80, 79), (79, 78), (78, 77), (77, 46), (46, 43), (43, 37), (37, 36), (36, 38), (38, 39), (39, 40), (124, 126), (126, 130), (43, 44), (44, 45), (45, 34), (34, 139), (33, 11), (11, 12), (20, 22), (27, 28), (95, 96), (96, 97), (73, 44), (11, 8), (8, 6), (6, 5), (8, 9), (13, 14), (24, 25), (11, 27), (27, 25), (24, 20), (28, 30), (30, 32), (28, 29)], 75)\n",
      "([(20, 22), (13, 14), (28, 30), (30, 32), (27, 11), (66, 62), (62, 63), (64, 63), (55, 140), (140, 49), (69, 67), (67, 68), (66, 67), (49, 48), (69, 71), (71, 72), (72, 73), (73, 44), (8, 6), (6, 5), (107, 110), (110, 112), (110, 111), (95, 96), (96, 97), (97, 98), (107, 108), (108, 109), (124, 126), (126, 130), (43, 37), (37, 36), (36, 38), (40, 39), (39, 38), (114, 113), (113, 112), (112, 107), (107, 106), (106, 105), (105, 104), (104, 102), (64, 65), (56, 55), (55, 54), (114, 118), (1, 116), (116, 117), (117, 2), (117, 119), (87, 86), (24, 20), (34, 139), (139, 33), (33, 11), (11, 8), (8, 9), (13, 12), (12, 11), (86, 85), (85, 84), (84, 82), (82, 80), (80, 79), (79, 78), (78, 77), (77, 46), (46, 43), (43, 44), (44, 45), (45, 34), (29, 28), (28, 27), (27, 25), (25, 24)], 75)\n"
     ]
    }
   ],
   "source": [
    "p1 = ps_to_chromesome(init_solution1[0])\n",
    "p2 = am_to_chromesome(init_solution2)\n",
    "print(p1, len(p1))\n",
    "print(p2, len(p2))\n",
    "# print(init_solution2)"
   ]
  },
  {
   "cell_type": "markdown",
   "metadata": {},
   "source": [
    "## Metaheuristics\n",
    "### optimal chromesome partition"
   ]
  },
  {
   "cell_type": "code",
   "execution_count": 71,
   "metadata": {},
   "outputs": [],
   "source": [
    "def chromesome_partition(chromesome, graph):\n",
    "    '''\n",
    "    transform the solution from chromesome format to partitioned solution optimally\n",
    "    input: chromesome and graph\n",
    "    output: \n",
    "    '''\n",
    "    # generate Auxiliary graph\n",
    "    aux_graph = DiGraph()\n",
    "    start_cost = list()\n",
    "    end_cost = list()\n",
    "    arc_cost = dict()\n",
    "    aq_edges = list()\n",
    "    edge_demand = list()\n",
    "    pre_task = None\n",
    "    for idx, task in enumerate(chromesome):\n",
    "        start_cost.append(graph.get_shortest_path(depot, task[0])[1])\n",
    "        aq_edges.append((graph[task[0]][task[1]]['cost'], graph[task[0]][task[1]]['demand']))\n",
    "        end_cost.append(graph.get_shortest_path(task[1], depot)[1])\n",
    "        if pre_task is not None:\n",
    "            arc_cost[(idx-1, idx)] = graph.get_shortest_path(pre_task[1], task[0])[1]\n",
    "        pre_task = task\n",
    "\n",
    "    # print(start_cost, end_cost, arc_cost, edge_cost)\n",
    "    for node1 in range(len(chromesome)):\n",
    "        cost = start_cost[node1]\n",
    "        load = 0\n",
    "        for node2 in range(node1 + 1,len(chromesome) + 1):\n",
    "            if load + aq_edges[node2-1][1] > capacity:\n",
    "                break\n",
    "            load += aq_edges[node2-1][1]\n",
    "            cost += aq_edges[node2-1][0]\n",
    "            aux_graph.add_weighted_edge((node1, node2), cost + end_cost[node2-1])\n",
    "            if node2!= len(chromesome):\n",
    "                cost += arc_cost[(node2-1, node2)]\n",
    "            #print(node1, node2)\n",
    "            #aux_graph.add_weighted_edge()\n",
    "\n",
    "    result = aux_graph.get_shortest_path((0,len(chromesome)))\n",
    "    partitioned = list()\n",
    "    for pair in pairwise(result[0]):\n",
    "        partitioned.append(chromesome[pair[0]:pair[1]])\n",
    "    return partitioned"
   ]
  },
  {
   "cell_type": "code",
   "execution_count": 72,
   "metadata": {
    "scrolled": true
   },
   "outputs": [],
   "source": [
    "partitioned1 = chromesome_partition(p1, gf)\n",
    "partitioned2 = chromesome_partition(p2, gf)"
   ]
  },
  {
   "cell_type": "markdown",
   "metadata": {},
   "source": [
    "### Order crossover"
   ]
  },
  {
   "cell_type": "code",
   "execution_count": 77,
   "metadata": {},
   "outputs": [],
   "source": [
    "def cxOrdered(x1, x2):\n",
    "    \"\"\"Executes an ordered crossover (OX) on the input\n",
    "    individuals. The two individuals are modified in place. This crossover\n",
    "    expects :term:`sequence` individuals of indices, the result for any other\n",
    "    type of individuals is unpredictable.\n",
    "    \n",
    "    :param x1: The first individual participating in the crossover.\n",
    "    :param x2: The second individual participating in the crossover.\n",
    "    :returns: A tuple of two individuals.\n",
    "    Moreover, this crossover generates holes in the input\n",
    "    individuals. A hole is created when an attribute of an individual is\n",
    "    between the two crossover points of the other individual. Then it rotates\n",
    "    the element so that all holes are between the crossover points and fills\n",
    "    them with the removed elements in order. For more details see\n",
    "    [Goldberg1989]_.\n",
    "    \n",
    "    This function uses the :func:`~random.sample` function from the python base\n",
    "    :mod:`random` module.\n",
    "    \n",
    "    .. [Goldberg1989] Goldberg. Genetic algorithms in search, \n",
    "       optimization and machine learning. Addison Wesley, 1989\n",
    "    \"\"\"\n",
    "    ind1, ind2 = copy.copy(x1), copy.copy(x2)\n",
    "    size = min(len(ind1), len(ind2))\n",
    "    a, b = random.sample(xrange(size), 2)\n",
    "    # print(a,b)\n",
    "    if a > b:\n",
    "        a, b = b, a\n",
    "\n",
    "    holes1, holes2 = set(), set()\n",
    "    for i in range(size):\n",
    "        if i < a or i > b:\n",
    "            holes1.add(Graph.get_unique_edge(ind2[i]))\n",
    "            holes2.add(Graph.get_unique_edge(ind1[i]))\n",
    "#             holes1[ind2[i]] = False\n",
    "#             holes2[ind1[i]] = False\n",
    "    \n",
    "    # We must keep the original values somewhere before scrambling everything\n",
    "    temp1, temp2 = ind1, ind2\n",
    "    k1 , k2 = b + 1, b + 1\n",
    "    for i in range(size):\n",
    "        if Graph.get_unique_edge(temp1[(i + b + 1) % size]) in holes1:\n",
    "            ind1[k1 % size] = temp1[(i + b + 1) % size]\n",
    "            k1 += 1\n",
    "        \n",
    "        if Graph.get_unique_edge(temp2[(i + b + 1) % size]) in holes2:\n",
    "            ind2[k2 % size] = temp2[(i + b + 1) % size]\n",
    "            k2 += 1\n",
    "    \n",
    "    # Swap the content between a and b (included)\n",
    "    for i in range(a, b + 1):\n",
    "        ind1[i], ind2[i] = ind2[i], ind1[i]\n",
    "    \n",
    "    return ind1, ind2\n",
    "\n"
   ]
  },
  {
   "cell_type": "code",
   "execution_count": 82,
   "metadata": {
    "scrolled": false
   },
   "outputs": [
    {
     "name": "stdout",
     "output_type": "stream",
     "text": [
      "([199, 184, 131, 118, 182, 163, 209, 208], [278, 292, 292, 316, 419, 423, 423, 432, 474, 507, 614, 624, 737, 743, 743, 752, 752, 770, 770, 806, 958, 968, 968, 994, 1450, 1543, 1551, 1551, 1564, 1577, 1584, 1739, 1747, 1747, 1764, 1764, 1767, 1935, 1960, 1960, 2063, 2284, 2420, 2431, 2431, 2466, 2694, 2710, 2710, 2730, 2730, 2755, 2777, 2795, 2795, 2801, 3099, 3163, 3175, 3175, 3179, 3179, 3192, 3192, 3220, 3220, 3235, 3235, 3241, 3241, 3262, 3328, 3343, 3373, 3377, 3655, 3773, 3793, 3793, 3803, 3803, 3816, 3816, 3832, 3832, 3844, 3844, 3856, 3856, 3871, 3871, 3887, 4038, 4048, 4272, 4330, 4416, 4416, 4434, 4434, 4453, 4453, 4469, 4485, 4509, 4562, 4566, 4888, 4921, 5066, 5115, 5450, 5785, 5798, 5798, 5822, 5822, 5870, 5870, 5907, 5951, 5963, 5963, 5988, 6128, 6133, 6133, 6164, 6164, 6178, 6460, 6742, 6746, 6860, 6865, 6865, 6871, 6871, 6890, 6890, 6900, 6933, 6943, 6999, 7017, 7128, 7133, 7133, 7161, 7200, 7250, 7460, 7497, 7497, 7504, 7513, 7522, 7748], 7748, 1394)\n"
     ]
    }
   ],
   "source": [
    "print(solution_verify(chromesome_partition(cxOrdered(p1, p2)[1],gf), gf))"
   ]
  },
  {
   "cell_type": "code",
   "execution_count": 83,
   "metadata": {},
   "outputs": [],
   "source": [
    "def cx_LCSX(x1, x2):\n",
    "    pass"
   ]
  },
  {
   "cell_type": "code",
   "execution_count": 122,
   "metadata": {},
   "outputs": [],
   "source": [
    "import pprint\n",
    "pp = pprint.PrettyPrinter(indent=4)\n",
    "def get_lcs(a, b):\n",
    "    lengths = [[0 for j in range(len(b)+1)] for i in range(len(a)+1)]\n",
    "    pp.pprint(lengths)\n",
    "    # row 0 and column 0 are initialized to 0 already\n",
    "    for i, x in enumerate(a):\n",
    "        for j, y in enumerate(b):\n",
    "            if x == y:\n",
    "                lengths[i+1][j+1] = lengths[i][j] + 1\n",
    "            else:\n",
    "                lengths[i+1][j+1] = max(lengths[i+1][j], lengths[i][j+1])\n",
    "    pp.pprint(lengths)\n",
    "    result_set = []\n",
    "    longest = []\n",
    "    get_longest_from_matrix(lengths, longest, len(a), len(b), a,b,result_set)\n",
    "    return result_set\n",
    "\n",
    "def get_longest_from_matrix(matrix, longest, x, y, a, b, result_set):\n",
    "    '''\n",
    "    time complexity too high\n",
    "    need rewrite\n",
    "    https://www.cnblogs.com/wb-DarkHorse/archive/2012/11/15/2772520.html\n",
    "    '''\n",
    "    # read the substring out from the matrix\n",
    "    while x!=0 and y!=0:\n",
    "        print(x,y)\n",
    "        if a[x-1] == b[y-1]:\n",
    "            print(1)\n",
    "            longest.append(a[x-1])\n",
    "            x -= 1\n",
    "            y -= 1\n",
    "        else:\n",
    "            if matrix[x-1][y] > matrix[x][y-1]:\n",
    "                print(2)\n",
    "                x -= 1\n",
    "            elif  matrix[x-1][y] < matrix[x][y-1]:\n",
    "                print(3)\n",
    "                y -= 1\n",
    "            else:\n",
    "                print(4)\n",
    "                get_longest_from_matrix(matrix, longest, x-1, y, a, b, result_set)\n",
    "                get_longest_from_matrix(matrix, longest, x, y-1, a, b, result_set)\n",
    "                return\n",
    "    result_set.append(longest)"
   ]
  },
  {
   "cell_type": "code",
   "execution_count": 239,
   "metadata": {},
   "outputs": [],
   "source": [
    "def mutation(idv):\n",
    "    a, b = random.sample(xrange(len(idv['chromesome'])), 2)\n",
    "    print('mutation',a,b)\n",
    "    tmp = idv['chromesome'][a]\n",
    "    idv['chromesome'][a] = idv['chromesome'][b]\n",
    "    idv['chromesome'][b] = tmp\n",
    "    idv['partition'] = chromesome_partition(idv['chromesome'], gf)\n",
    "    idv['fitness'] = solution_verify(idv['partition'],gf)[2]\n",
    "    return idv\n",
    "\n",
    "def main_process():\n",
    "    ps_random = 18\n",
    "    ps = 20\n",
    "    # seq = list(range(20))\n",
    "    P = defaultdict(dict)\n",
    "    MAX_ITERATION = 5000\n",
    "    MAX_RESTART = 10\n",
    "    n_iteration = 0\n",
    "    x_bsf = (-1, float('inf'))\n",
    "    P[0]['chromesome'] = p1\n",
    "    P[0]['partition'] = chromesome_partition(p1, gf)\n",
    "    fitness = solution_verify(P[0]['partition'],gf)[2]\n",
    "    P[0]['fitness'] = fitness\n",
    "    if x_bsf[1] > fitness:\n",
    "        x_bsf = (0,fitness)\n",
    "        print(x_bsf)\n",
    "    P[1]['chromesome'] = p2\n",
    "    P[1]['partition'] = chromesome_partition(p1, gf)\n",
    "    fitness = solution_verify(P[1]['partition'],gf)[2]\n",
    "    P[1]['fitness'] = fitness\n",
    "    if x_bsf[1] > fitness:\n",
    "        x_bsf = (1,fitness)\n",
    "        print(x_bsf)\n",
    "    for x in range(2, 2 + ps_random):\n",
    "        p = random_init(gf,depot)\n",
    "        P[x]['chromesome'] = p\n",
    "        P[x]['partition'] = chromesome_partition(p, gf)\n",
    "        P[x]['fitness'] = solution_verify(P[x]['partition'],gf)[2]\n",
    "        #print(p)\n",
    "        if x_bsf[1] > P[x]['fitness']:\n",
    "            x_bsf = (x,P[x]['fitness'])\n",
    "            print(x_bsf)\n",
    "    return P\n",
    "    while n_iteration < MAX_ITERATION:\n",
    "        a, b = random.sample(xrange(ps), 2)\n",
    "        if P[a]['fitness'] < P[b]['fitness']:\n",
    "            tmp, b = b, a\n",
    "            a = tmp\n",
    "        child = cxOrdered(P[a]['chromesome'], P[b]['chromesome'])\n",
    "        child = random.choice(child)\n",
    "        new_partition = chromesome_partition(child, gf)\n",
    "        new_fitness =  solution_verify(new_partition,gf)[2]\n",
    "        #print(new_fitness)\n",
    "        if new_fitness < P[a]['fitness']:\n",
    "            P[a]['chromesome'] = child\n",
    "            P[a]['partition'] = new_partition\n",
    "            P[a]['fitness'] = new_fitness\n",
    "            print(new_fitness)\n",
    "            if new_fitness < x_bsf[1]:\n",
    "                print(x_bsf)\n",
    "                x_bsf = (a, new_fitness)\n",
    "            if child ==  P[b]['chromesome']:\n",
    "                mutation(P[a])\n",
    "                \n",
    "        n_iteration += 1\n",
    "    #print(P)"
   ]
  },
  {
   "cell_type": "code",
   "execution_count": null,
   "metadata": {},
   "outputs": [],
   "source": []
  },
  {
   "cell_type": "markdown",
   "metadata": {},
   "source": [
    "### local search"
   ]
  },
  {
   "cell_type": "code",
   "execution_count": 294,
   "metadata": {},
   "outputs": [],
   "source": [
    "def soft_evaluate(idv):\n",
    "    '''\n",
    "    ::params: population individual\n",
    "    ::return: (soft_feasibility, feasibility, cost)\n",
    "    '''\n",
    "    \n",
    "\n",
    "def local_search(idv):\n",
    "    '''\n",
    "    ::params: population individual\n",
    "    ::output: new individual\n",
    "    '''\n",
    "    partition = idv['partition']\n",
    "    tmp_partition = copy.copy(partition)\n",
    "    recent_feasible = copy.copy(partition)\n",
    "    print(partition)\n",
    "    print(solution_verify(partition, gf)[2])\n",
    "    for idx1, path1 in enumerate(partition):\n",
    "        for idx2, path2 in enumerate(partition[idx1+1:]):\n",
    "            for idx3, pair1 in enumerate(pairwise(path1)):\n",
    "                for idx4, pair2 in enumerate(pairwise(path2)):\n",
    "                    tmp1 = copy.copy(path1)\n",
    "                    tmp2 = copy.copy(path2)\n",
    "                    # path1: idx1, path2: idx1+idx2+1, pair1: idx3, pair2: idx4\n",
    "                    tmp_partition[idx1] = tmp1\n",
    "                    tmp_partition[idx1+idx2+1] = tmp2\n",
    "                    # method1 => i | g f j\n",
    "                    tmp1.remove(pair1[0])\n",
    "                    tmp2.insert(idx4, pair1[0])\n",
    "                    #print(pair1,pair2, idx1,idx1+idx2+1,idx3,idx4)\n",
    "                    #print(path1, path2)\n",
    "                    #print(partition)\n",
    "                    #print(\"new\", tmp_partition)\n",
    "                    fitness = solution_verify(tmp_partition, gf)[2]\n",
    "                    if fitness<6550:\n",
    "                        print(fitness)"
   ]
  },
  {
   "cell_type": "code",
   "execution_count": 295,
   "metadata": {
    "scrolled": true
   },
   "outputs": [
    {
     "name": "stdout",
     "output_type": "stream",
     "text": [
      "[[(1, 116), (116, 117), (117, 119), (117, 2), (118, 114), (114, 113), (113, 112), (112, 110), (110, 107), (107, 112), (110, 111), (106, 105), (97, 98)], [(107, 106), (105, 104), (104, 102), (66, 62), (62, 63), (63, 64), (64, 65), (56, 55), (55, 54), (55, 140), (140, 49), (49, 48), (139, 33), (12, 13)], [(107, 108), (108, 109), (66, 67), (67, 68), (67, 69), (69, 71), (71, 72), (72, 73)], [(87, 86), (86, 85), (85, 84), (84, 82), (82, 80), (80, 79), (79, 78), (78, 77), (77, 46), (46, 43), (43, 37), (37, 36), (36, 38), (38, 39), (39, 40)], [(124, 126), (126, 130), (43, 44), (44, 45), (45, 34), (34, 139), (33, 11), (11, 12), (20, 22), (27, 28)], [(95, 96), (96, 97), (73, 44), (11, 8), (8, 6), (6, 5), (8, 9), (13, 14), (24, 25)], [(11, 27), (27, 25), (24, 20), (28, 30), (30, 32), (28, 29)]]\n",
      "6518\n",
      "6518\n",
      "6547\n",
      "6547\n",
      "6521\n",
      "6547\n",
      "6518\n",
      "6518\n",
      "6526\n",
      "6526\n",
      "6526\n",
      "6518\n",
      "6518\n",
      "6472\n",
      "6548\n"
     ]
    }
   ],
   "source": [
    "test_p = dict()\n",
    "test_p['partition'] = chromesome_partition(p1, gf)\n",
    "local_search(test_p)"
   ]
  },
  {
   "cell_type": "code",
   "execution_count": 278,
   "metadata": {},
   "outputs": [],
   "source": [
    "test_p = chromesome_partition(p1, gf)\n",
    "#test_p = main_process()[1]"
   ]
  },
  {
   "cell_type": "code",
   "execution_count": 277,
   "metadata": {},
   "outputs": [
    {
     "data": {
      "text/plain": [
       "{'cost': 24, 'demand': 24}"
      ]
     },
     "execution_count": 277,
     "metadata": {},
     "output_type": "execute_result"
    }
   ],
   "source": [
    "gf[119][117]"
   ]
  },
  {
   "cell_type": "markdown",
   "metadata": {},
   "source": [
    "## Solution-related\n",
    "\n",
    "### output example\n",
    "\n",
    "```\n",
    "s 0,(1,2),(2,4),(4,1),0,0,(4,3),(3,1),0\n",
    "q 15\n",
    "```"
   ]
  },
  {
   "cell_type": "code",
   "execution_count": 314,
   "metadata": {},
   "outputs": [],
   "source": [
    "def solution_verify(partitioned_solution, graph):\n",
    "    loadlist = list()\n",
    "    cost_total = 0\n",
    "    costlist = list()\n",
    "    for route in partitioned_solution:\n",
    "        # costlist.append(route)\n",
    "        load = 0\n",
    "        prev_task = None\n",
    "        cost_total += graph.get_shortest_path(route[0][0], depot)[1]\n",
    "        costlist.append(cost_total)\n",
    "        for task in route:\n",
    "            #print(task)\n",
    "            if prev_task is not None:\n",
    "                cost_total += graph.get_shortest_path(prev_task[1], task[0])[1]\n",
    "                costlist.append(cost_total)\n",
    "            load += graph[task[0]][task[1]]['demand']\n",
    "            cost_total += graph[task[0]][task[1]]['cost']\n",
    "            costlist.append(cost_total)\n",
    "            prev_task = task\n",
    "        loadlist.append(load)\n",
    "        cost_total += graph.get_shortest_path(route[-1][1], depot)[1]\n",
    "        costlist.append(cost_total)\n",
    "    return loadlist, costlist,cost_total,sum(loadlist)"
   ]
  },
  {
   "cell_type": "code",
   "execution_count": 315,
   "metadata": {},
   "outputs": [],
   "source": [
    "loadlist, costlist, cost_total, load_total = solution_verify(partitioned2, gf)\n",
    "#print(load_total, cost_total)"
   ]
  },
  {
   "cell_type": "code",
   "execution_count": 154,
   "metadata": {
    "scrolled": true
   },
   "outputs": [
    {
     "name": "stdout",
     "output_type": "stream",
     "text": [
      "([88, 205, 210, 194, 197, 136, 192, 172], [348, 361, 482, 500, 536, 572, 777, 789, 936, 945, 1149, 1149, 1167, 1554, 1559, 1755, 1770, 1944, 1964, 2266, 2276, 2485, 2501, 2713, 2741, 2790, 2796, 2964, 2974, 3008, 3012, 3042, 3055, 3180, 3229, 3509, 3520, 3667, 3893, 3902, 3947, 3951, 4061, 4085, 4243, 4252, 4457, 4492, 4748, 4785, 4923, 4939, 5167, 5173, 5260, 5278, 5342, 5375, 5583, 5588, 5720, 5734, 6012, 6249, 6280, 6343, 6349, 6520, 6538, 6641, 6653, 6874, 6902, 7217, 7238, 7567, 7577, 7922, 7937, 8128, 8144, 8345, 8353, 8675, 8687, 9014, 9031, 9272, 9309, 9333, 9570, 9576, 9843, 9862, 10112, 10126, 10373, 10377, 10533, 10566, 10801, 10826, 10884, 10910, 11326, 11339, 11697, 11716, 12101, 12108, 12275, 12279, 12421, 12424, 12682, 12735, 12751, 12987, 13007, 13258, 13271, 13457, 13472, 13601, 13611, 13684, 13688, 13751, 13776, 14087, 14112, 14112, 14120, 14213, 14440, 14447, 14697, 14707, 14875, 14899, 15043, 15091, 15523, 15626, 15744, 16155, 16205, 16286, 16323, 16509, 16519, 16733, 16791, 17119, 17124, 17345, 17357, 17534], 17534, 1394)\n"
     ]
    }
   ],
   "source": [
    "partitioned3 = chromesome_partition(random_init(gf,1), gf)\n",
    "print(solution_verify(partitioned3, gf))"
   ]
  },
  {
   "cell_type": "code",
   "execution_count": 19,
   "metadata": {},
   "outputs": [
    {
     "data": {
      "text/plain": [
       "10"
      ]
     },
     "execution_count": 19,
     "metadata": {},
     "output_type": "execute_result"
    }
   ],
   "source": [
    "gf.get_shortest_path(20, 22)[1]"
   ]
  },
  {
   "cell_type": "code",
   "execution_count": 20,
   "metadata": {
    "scrolled": false
   },
   "outputs": [
    {
     "name": "stdout",
     "output_type": "stream",
     "text": [
      "[[(20, 22), (13, 14), (28, 30), (30, 32), (27, 11), (66, 62), (62, 63), (64, 63), (55, 140), (140, 49), (69, 67)], [(67, 68), (66, 67), (49, 48), (69, 71), (71, 72), (72, 73), (73, 44), (8, 6), (6, 5)], [(107, 110), (110, 112), (110, 111), (95, 96), (96, 97), (97, 98), (107, 108), (108, 109)], [(124, 126), (126, 130), (43, 37), (37, 36), (36, 38), (40, 39), (39, 38)], [(114, 113), (113, 112), (112, 107), (107, 106), (106, 105), (105, 104), (104, 102), (64, 65), (56, 55), (55, 54), (114, 118)], [(1, 116), (116, 117), (117, 2), (117, 119), (87, 86), (24, 20)], [(34, 139), (139, 33), (33, 11), (11, 8), (8, 9), (13, 12), (12, 11)], [(86, 85), (85, 84), (84, 82), (82, 80), (80, 79), (79, 78), (78, 77), (77, 46), (46, 43), (43, 44), (44, 45), (45, 34), (29, 28), (28, 27), (27, 25), (25, 24)]]\n"
     ]
    }
   ],
   "source": [
    "print(partitioned2)\n",
    "# print(init_solution2)"
   ]
  },
  {
   "cell_type": "code",
   "execution_count": 21,
   "metadata": {},
   "outputs": [],
   "source": [
    "def solution_to_string(partitioned_solution, graph):\n",
    "    result = 's '\n",
    "    for route in partitioned_solution:\n",
    "        result+='0,'\n",
    "        for task in route:\n",
    "            result+='(%d,%d),' % task\n",
    "        result+='0,'\n",
    "    cost_total = solution_verify(partitioned_solution, graph)[2]\n",
    "    result = result[:-1] + '\\n'\n",
    "    result += 'q %d' % cost_total\n",
    "    return result"
   ]
  },
  {
   "cell_type": "code",
   "execution_count": 22,
   "metadata": {
    "scrolled": false
   },
   "outputs": [
    {
     "name": "stdout",
     "output_type": "stream",
     "text": [
      "s 0,(20,22),(13,14),(28,30),(30,32),(27,11),(66,62),(62,63),(64,63),(55,140),(140,49),(69,67),0,0,(67,68),(66,67),(49,48),(69,71),(71,72),(72,73),(73,44),(8,6),(6,5),0,0,(107,110),(110,112),(110,111),(95,96),(96,97),(97,98),(107,108),(108,109),0,0,(124,126),(126,130),(43,37),(37,36),(36,38),(40,39),(39,38),0,0,(114,113),(113,112),(112,107),(107,106),(106,105),(105,104),(104,102),(64,65),(56,55),(55,54),(114,118),0,0,(1,116),(116,117),(117,2),(117,119),(87,86),(24,20),0,0,(34,139),(139,33),(33,11),(11,8),(8,9),(13,12),(12,11),0,0,(86,85),(85,84),(84,82),(82,80),(80,79),(79,78),(78,77),(77,46),(46,43),(43,44),(44,45),(45,34),(29,28),(28,27),(27,25),(25,24),0\n",
      "q 7689\n"
     ]
    }
   ],
   "source": [
    "result_str = solution_to_string(partitioned2,gf)\n",
    "print(result_str)"
   ]
  },
  {
   "cell_type": "code",
   "execution_count": 23,
   "metadata": {},
   "outputs": [],
   "source": [
    "import re\n",
    "class InputError(Exception):\n",
    "    def __init__(self, message):\n",
    "        self.msg = message\n",
    "\n",
    "def string_extract(result_string):\n",
    "    splitted = result_string.splitlines()\n",
    "    solution = None\n",
    "    solution = list()\n",
    "    result_cost = 0\n",
    "    try:\n",
    "        for line in splitted:\n",
    "            if len(line)<3:\n",
    "                raise InputError('Length not right')\n",
    "            if line[0] == 's':\n",
    "                line = line[2:]\n",
    "                pattern_route = r'(\\([\\d]+,[\\d]+\\),?)+'\n",
    "                pattern_task = r'\\(([\\d]+),([\\d]+)\\)'\n",
    "                for m in re.finditer(pattern_route, line):\n",
    "                    route = list()\n",
    "                    for m_sub in re.finditer(pattern_task, m.group(0)):\n",
    "                        route.append((int(m_sub.group(1)), int(m_sub.group(2))))\n",
    "                    solution.append(route)\n",
    "            elif line[0] == 'q':\n",
    "                quality = line.split(' ')\n",
    "                try:\n",
    "                    result_cost = int(quality[1])\n",
    "                    # print(result_cost)\n",
    "                except ValueError:\n",
    "                    #Handle the exception\n",
    "                    raise InputError('Please enter an integer')\n",
    "    except InputError as err:\n",
    "        print(err.msg)\n",
    "    return solution, result_cost"
   ]
  },
  {
   "cell_type": "code",
   "execution_count": 24,
   "metadata": {},
   "outputs": [
    {
     "name": "stdout",
     "output_type": "stream",
     "text": [
      "([[(20, 22), (13, 14), (28, 30), (30, 32), (27, 11), (66, 62), (62, 63), (64, 63), (55, 140), (140, 49), (69, 67)], [(67, 68), (66, 67), (49, 48), (69, 71), (71, 72), (72, 73), (73, 44), (8, 6), (6, 5)], [(107, 110), (110, 112), (110, 111), (95, 96), (96, 97), (97, 98), (107, 108), (108, 109)], [(124, 126), (126, 130), (43, 37), (37, 36), (36, 38), (40, 39), (39, 38)], [(114, 113), (113, 112), (112, 107), (107, 106), (106, 105), (105, 104), (104, 102), (64, 65), (56, 55), (55, 54), (114, 118)], [(1, 116), (116, 117), (117, 2), (117, 119), (87, 86), (24, 20)], [(34, 139), (139, 33), (33, 11), (11, 8), (8, 9), (13, 12), (12, 11)], [(86, 85), (85, 84), (84, 82), (82, 80), (80, 79), (79, 78), (78, 77), (77, 46), (46, 43), (43, 44), (44, 45), (45, 34), (29, 28), (28, 27), (27, 25), (25, 24)]], 7689)\n"
     ]
    }
   ],
   "source": [
    "print(string_extract(result_str))"
   ]
  },
  {
   "cell_type": "code",
   "execution_count": 25,
   "metadata": {},
   "outputs": [
    {
     "data": {
      "text/plain": [
       "'0,(20,22),(13,14),(28,30),(30,32),(27,11),(66,62),(62,63),(64,63),(55,140),(140,49),(69,67),0,0,(67,68),(66,67),(49,48),(69,71),(71,72),(72,73),(73,44),(8,6),(6,5),0,0,(107,110),(110,112),(110,111),(95,96),(96,97),(97,98),(107,108),(108,109),0,0,(124,126),(126,130),(43,37),(37,36),(36,38),(40,39),(39,38),0,0,(114,113),(113,112),(112,107),(107,106),(106,105),(105,104),(104,102),(64,65),(56,55),(55,54),(114,118),0,0,(1,116),(116,117),(117,2),(117,119),(87,86),(24,20),0,0,(34,139),(139,33),(33,11),(11,8),(8,9),(13,12),(12,11),0,0,(86,85),(85,84),(84,82),(82,80),(80,79),(79,78),(78,77),(77,46),(46,43),(43,44),(44,45),(45,34),(29,28),(28,27),(27,25),(25,24),0'"
      ]
     },
     "execution_count": 25,
     "metadata": {},
     "output_type": "execute_result"
    }
   ],
   "source": [
    "line = result_str.splitlines()[0][2:]"
   ]
  },
  {
   "cell_type": "code",
   "execution_count": 26,
   "metadata": {},
   "outputs": [],
   "source": [
    "pattern = r'(\\([\\d]+,[\\d]+\\),?)+'"
   ]
  },
  {
   "cell_type": "code",
   "execution_count": 27,
   "metadata": {},
   "outputs": [],
   "source": [
    "x = re.search(pattern, line)"
   ]
  },
  {
   "cell_type": "code",
   "execution_count": 316,
   "metadata": {
    "scrolled": true
   },
   "outputs": [
    {
     "data": {
      "text/plain": [
       "([[(1, 116),\n",
       "   (116, 117),\n",
       "   (117, 2),\n",
       "   (117, 119),\n",
       "   (118, 114),\n",
       "   (114, 113),\n",
       "   (113, 112),\n",
       "   (112, 110),\n",
       "   (110, 111),\n",
       "   (110, 107),\n",
       "   (107, 112)],\n",
       "  [(107, 108), (108, 109), (107, 106), (106, 105), (105, 104), (104, 102)],\n",
       "  [(87, 86),\n",
       "   (86, 85),\n",
       "   (85, 84),\n",
       "   (84, 82),\n",
       "   (82, 80),\n",
       "   (80, 79),\n",
       "   (79, 78),\n",
       "   (78, 77),\n",
       "   (77, 46),\n",
       "   (46, 43),\n",
       "   (43, 44),\n",
       "   (44, 73),\n",
       "   (73, 72)],\n",
       "  [(124, 126),\n",
       "   (126, 130),\n",
       "   (66, 67),\n",
       "   (67, 69),\n",
       "   (69, 71),\n",
       "   (71, 72),\n",
       "   (67, 68),\n",
       "   (66, 62),\n",
       "   (62, 63),\n",
       "   (63, 64),\n",
       "   (64, 65),\n",
       "   (56, 55),\n",
       "   (55, 54),\n",
       "   (55, 140)],\n",
       "  [(95, 96),\n",
       "   (96, 97),\n",
       "   (97, 98),\n",
       "   (140, 49),\n",
       "   (49, 48),\n",
       "   (139, 34),\n",
       "   (34, 45),\n",
       "   (45, 44),\n",
       "   (43, 37),\n",
       "   (37, 36),\n",
       "   (36, 38),\n",
       "   (38, 39)],\n",
       "  [(39, 40),\n",
       "   (139, 33),\n",
       "   (33, 11),\n",
       "   (11, 12),\n",
       "   (12, 13),\n",
       "   (13, 14),\n",
       "   (11, 27),\n",
       "   (27, 28),\n",
       "   (28, 29),\n",
       "   (28, 30),\n",
       "   (30, 32)],\n",
       "  [(11, 8), (8, 6), (6, 5), (8, 9), (27, 25), (25, 24), (24, 20), (20, 22)]],\n",
       " 0)"
      ]
     },
     "execution_count": 316,
     "metadata": {},
     "output_type": "execute_result"
    }
   ],
   "source": [
    "test_part"
   ]
  },
  {
   "cell_type": "code",
   "execution_count": 306,
   "metadata": {},
   "outputs": [],
   "source": [
    "test_part = string_extract('s 0,(1,116),(116,117),(117,2),(117,119),(118,114),(114,113),(113,112),(112,110),(110,111),(110,107),(107,112),0,0,(107,108),(108,109),(107,106),(106,105),(105,104),(104,102),0,0,(87,86),(86,85),(85,84),(84,82),(82,80),(80,79),(79,78),(78,77),(77,46),(46,43),(43,44),(44,73),(73,72),0,0,(124,126),(126,130),(66,67),(67,69),(69,71),(71,72),(67,68),(66,62),(62,63),(63,64),(64,65),(56,55),(55,54),(55,140),0,0,(95,96),(96,97),(97,98),(140,49),(49,48),(139,34),(34,45),(45,44),(43,37),(37,36),(36,38),(38,39),0,0,(39,40),(139,33),(33,11),(11,12),(12,13),(13,14),(11,27),(27,28),(28,29),(28,30),(30,32),0,0,(11,8),(8,6),(6,5),(8,9),(27,25),(25,24),(24,20),(20,22),0')"
   ]
  },
  {
   "cell_type": "code",
   "execution_count": 317,
   "metadata": {},
   "outputs": [
    {
     "data": {
      "text/plain": [
       "([192, 198, 208, 203, 196, 204, 193],\n",
       " [0,\n",
       "  18,\n",
       "  18,\n",
       "  37,\n",
       "  37,\n",
       "  53,\n",
       "  69,\n",
       "  93,\n",
       "  140,\n",
       "  198,\n",
       "  198,\n",
       "  210,\n",
       "  210,\n",
       "  214,\n",
       "  214,\n",
       "  227,\n",
       "  227,\n",
       "  234,\n",
       "  241,\n",
       "  249,\n",
       "  249,\n",
       "  262,\n",
       "  342,\n",
       "  435,\n",
       "  460,\n",
       "  460,\n",
       "  563,\n",
       "  691,\n",
       "  719,\n",
       "  719,\n",
       "  734,\n",
       "  734,\n",
       "  740,\n",
       "  740,\n",
       "  761,\n",
       "  924,\n",
       "  1038,\n",
       "  1042,\n",
       "  1042,\n",
       "  1062,\n",
       "  1062,\n",
       "  1072,\n",
       "  1072,\n",
       "  1085,\n",
       "  1085,\n",
       "  1101,\n",
       "  1101,\n",
       "  1113,\n",
       "  1113,\n",
       "  1125,\n",
       "  1125,\n",
       "  1140,\n",
       "  1140,\n",
       "  1156,\n",
       "  1156,\n",
       "  1161,\n",
       "  1161,\n",
       "  1192,\n",
       "  1192,\n",
       "  1228,\n",
       "  1228,\n",
       "  1246,\n",
       "  1469,\n",
       "  1605,\n",
       "  1616,\n",
       "  1616,\n",
       "  1651,\n",
       "  1870,\n",
       "  1903,\n",
       "  1903,\n",
       "  1907,\n",
       "  1907,\n",
       "  1913,\n",
       "  1913,\n",
       "  1922,\n",
       "  1941,\n",
       "  1950,\n",
       "  1992,\n",
       "  2029,\n",
       "  2029,\n",
       "  2036,\n",
       "  2036,\n",
       "  2045,\n",
       "  2045,\n",
       "  2060,\n",
       "  2090,\n",
       "  2094,\n",
       "  2094,\n",
       "  2104,\n",
       "  2114,\n",
       "  2128,\n",
       "  2420,\n",
       "  2653,\n",
       "  2661,\n",
       "  2661,\n",
       "  2678,\n",
       "  2678,\n",
       "  2681,\n",
       "  2866,\n",
       "  2890,\n",
       "  2890,\n",
       "  2900,\n",
       "  2949,\n",
       "  2998,\n",
       "  2998,\n",
       "  3002,\n",
       "  3002,\n",
       "  3016,\n",
       "  3047,\n",
       "  3063,\n",
       "  3063,\n",
       "  3083,\n",
       "  3083,\n",
       "  3108,\n",
       "  3108,\n",
       "  3114,\n",
       "  3418,\n",
       "  3722,\n",
       "  3740,\n",
       "  3899,\n",
       "  3912,\n",
       "  3912,\n",
       "  3936,\n",
       "  3936,\n",
       "  3961,\n",
       "  3961,\n",
       "  3973,\n",
       "  3973,\n",
       "  3991,\n",
       "  4046,\n",
       "  4096,\n",
       "  4096,\n",
       "  4102,\n",
       "  4102,\n",
       "  4107,\n",
       "  4112,\n",
       "  4117,\n",
       "  4117,\n",
       "  4145,\n",
       "  4583,\n",
       "  4955,\n",
       "  5003,\n",
       "  5003,\n",
       "  5013,\n",
       "  5013,\n",
       "  5039,\n",
       "  5075,\n",
       "  5112,\n",
       "  5243,\n",
       "  5262,\n",
       "  5262,\n",
       "  5272,\n",
       "  5272,\n",
       "  5305,\n",
       "  5305,\n",
       "  5315,\n",
       "  5756],\n",
       " 5756,\n",
       " 1394)"
      ]
     },
     "execution_count": 317,
     "metadata": {},
     "output_type": "execute_result"
    }
   ],
   "source": [
    "solution_verify(test_part[0],gf)"
   ]
  },
  {
   "cell_type": "code",
   "execution_count": 309,
   "metadata": {},
   "outputs": [
    {
     "data": {
      "text/plain": [
       "([[(1, 116),\n",
       "   (116, 117),\n",
       "   (117, 2),\n",
       "   (117, 119),\n",
       "   (118, 114),\n",
       "   (114, 113),\n",
       "   (113, 112),\n",
       "   (112, 110),\n",
       "   (110, 111),\n",
       "   (110, 107),\n",
       "   (107, 112)],\n",
       "  [(107, 108), (108, 109), (107, 106), (106, 105), (105, 104), (104, 102)],\n",
       "  [(87, 86),\n",
       "   (86, 85),\n",
       "   (85, 84),\n",
       "   (84, 82),\n",
       "   (82, 80),\n",
       "   (80, 79),\n",
       "   (79, 78),\n",
       "   (78, 77),\n",
       "   (77, 46),\n",
       "   (46, 43),\n",
       "   (43, 44),\n",
       "   (44, 73),\n",
       "   (73, 72)],\n",
       "  [(124, 126),\n",
       "   (126, 130),\n",
       "   (66, 67),\n",
       "   (67, 69),\n",
       "   (69, 71),\n",
       "   (71, 72),\n",
       "   (67, 68),\n",
       "   (66, 62),\n",
       "   (62, 63),\n",
       "   (63, 64),\n",
       "   (64, 65),\n",
       "   (56, 55),\n",
       "   (55, 54),\n",
       "   (55, 140)],\n",
       "  [(95, 96),\n",
       "   (96, 97),\n",
       "   (97, 98),\n",
       "   (140, 49),\n",
       "   (49, 48),\n",
       "   (139, 34),\n",
       "   (34, 45),\n",
       "   (45, 44),\n",
       "   (43, 37),\n",
       "   (37, 36),\n",
       "   (36, 38),\n",
       "   (38, 39)],\n",
       "  [(39, 40),\n",
       "   (139, 33),\n",
       "   (33, 11),\n",
       "   (11, 12),\n",
       "   (12, 13),\n",
       "   (13, 14),\n",
       "   (11, 27),\n",
       "   (27, 28),\n",
       "   (28, 29),\n",
       "   (28, 30),\n",
       "   (30, 32)],\n",
       "  [(11, 8), (8, 6), (6, 5), (8, 9), (27, 25), (25, 24), (24, 20), (20, 22)]],\n",
       " 0)"
      ]
     },
     "execution_count": 309,
     "metadata": {},
     "output_type": "execute_result"
    }
   ],
   "source": [
    "test_part"
   ]
  },
  {
   "cell_type": "code",
   "execution_count": 308,
   "metadata": {},
   "outputs": [
    {
     "data": {
      "text/plain": [
       "{1: {'cost': 18, 'demand': 18},\n",
       " 115: {'cost': 10},\n",
       " 117: {'cost': 19, 'demand': 19}}"
      ]
     },
     "execution_count": 308,
     "metadata": {},
     "output_type": "execute_result"
    }
   ],
   "source": [
    "gf[116]"
   ]
  },
  {
   "cell_type": "code",
   "execution_count": null,
   "metadata": {},
   "outputs": [],
   "source": []
  }
 ],
 "metadata": {
  "kernelspec": {
   "display_name": "Python 2",
   "language": "python",
   "name": "python2"
  },
  "language_info": {
   "codemirror_mode": {
    "name": "ipython",
    "version": 2
   },
   "file_extension": ".py",
   "mimetype": "text/x-python",
   "name": "python",
   "nbconvert_exporter": "python",
   "pygments_lexer": "ipython2",
   "version": "2.7.12"
  }
 },
 "nbformat": 4,
 "nbformat_minor": 2
}
