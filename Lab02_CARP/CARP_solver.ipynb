{
 "cells": [
  {
   "cell_type": "code",
   "execution_count": 92,
   "metadata": {},
   "outputs": [],
   "source": [
    "import numpy as np\n",
    "import graph\n",
    "import digraph\n",
    "reload(graph)\n",
    "reload(digraph)\n",
    "from graph import Graph\n",
    "from digraph import DiGraph\n",
    "from collections import defaultdict\n",
    "from itertools import tee, izip"
   ]
  },
  {
   "cell_type": "markdown",
   "metadata": {},
   "source": [
    "## Preparation Functions/Classes"
   ]
  },
  {
   "cell_type": "code",
   "execution_count": 2,
   "metadata": {},
   "outputs": [],
   "source": [
    "def read_instance_file(filename):\n",
    "    '''\n",
    "    ::param: filename: string, filename that indicates the location of instance data file\n",
    "    ::return value: (specification, data)\n",
    "    :: specification: dict, specification of the instance\n",
    "    :: data: the numpy array with a list of edges and their cost, demand\n",
    "    :: data: [vertex1 vertex2 cost demand]\n",
    "    '''\n",
    "    fd = open(inputfile)\n",
    "    content = fd.readlines()\n",
    "    content = [x.strip() for x in content] \n",
    "    specification = dict()\n",
    "    for i in range(8):\n",
    "        line = content[i].split(':')\n",
    "        specification[line[0].strip()] = line[1].strip()\n",
    "    # print(specification)\n",
    "    data = list()\n",
    "    for line in content[9:-1]:\n",
    "        tmp = line.split()\n",
    "        data.append([int(x.strip()) for x in tmp])\n",
    "    data = np.array(data)\n",
    "    fd.close()\n",
    "    return specification, data"
   ]
  },
  {
   "cell_type": "code",
   "execution_count": 3,
   "metadata": {},
   "outputs": [],
   "source": [
    "'''\n",
    "filelist CARP_samples\n",
    "egl-e1-A.dat  gdb10.dat  val1A.dat  val7A.dat\n",
    "egl-s1-A.dat  gdb1.dat   val4A.dat\n",
    "'''\n",
    "inputfile = 'CARP_samples/egl-s1-A.dat'"
   ]
  },
  {
   "cell_type": "code",
   "execution_count": 4,
   "metadata": {},
   "outputs": [
    {
     "data": {
      "text/plain": [
       "<module 'graph' from 'graph.pyc'>"
      ]
     },
     "execution_count": 4,
     "metadata": {},
     "output_type": "execute_result"
    }
   ],
   "source": [
    "# reload graph.py\n",
    "reload(graph)"
   ]
  },
  {
   "cell_type": "markdown",
   "metadata": {},
   "source": [
    "## Read the graph into Data Structure"
   ]
  },
  {
   "cell_type": "code",
   "execution_count": 5,
   "metadata": {},
   "outputs": [],
   "source": [
    "spec, data = read_instance_file(inputfile)\n",
    "gf = Graph()\n",
    "gf.load_from_data(data.tolist())"
   ]
  },
  {
   "cell_type": "code",
   "execution_count": 6,
   "metadata": {},
   "outputs": [
    {
     "name": "stdout",
     "output_type": "stream",
     "text": [
      "{'NON-REQUIRED EDGES': '115', 'VEHICLES': '7', 'CAPACITY': '210', 'NAME': 'egl-s1-A', 'TOTAL COST OF REQUIRED EDGES': '1394', 'REQUIRED EDGES': '75', 'VERTICES': '140', 'DEPOT': '1'}\n"
     ]
    }
   ],
   "source": [
    "# print(gf)\n",
    "print(spec)\n",
    "# print(gf.get_tasks())"
   ]
  },
  {
   "cell_type": "code",
   "execution_count": 7,
   "metadata": {},
   "outputs": [],
   "source": [
    "capacity = int(spec['CAPACITY'])\n",
    "depot = int(spec['DEPOT'])"
   ]
  },
  {
   "cell_type": "code",
   "execution_count": 8,
   "metadata": {},
   "outputs": [
    {
     "name": "stdout",
     "output_type": "stream",
     "text": [
      "([1, 116, 117, 119, 120, 121, 122, 87, 86, 85, 84, 82, 80, 79, 78, 77, 46, 43, 44, 45, 34, 139, 33, 11, 12, 13, 17, 18], 423)\n"
     ]
    }
   ],
   "source": [
    "# test\n",
    "print(gf.get_shortest_path(1,18))"
   ]
  },
  {
   "cell_type": "code",
   "execution_count": 9,
   "metadata": {},
   "outputs": [
    {
     "data": {
      "text/plain": [
       "{9: {'cost': 12}, 15: {'cost': 13}, 19: {'cost': 28}}"
      ]
     },
     "execution_count": 9,
     "metadata": {},
     "output_type": "execute_result"
    }
   ],
   "source": [
    "gf[10]"
   ]
  },
  {
   "cell_type": "markdown",
   "metadata": {},
   "source": [
    "## Initialization\n",
    "### Path-Scanning Simple"
   ]
  },
  {
   "cell_type": "code",
   "execution_count": 10,
   "metadata": {},
   "outputs": [],
   "source": [
    "def which_better(u1, u2, graph, load, capacity, depot):\n",
    "    import random\n",
    "    r_cq1 = graph[u1[0]][u1[1]]['cost']/graph[u1[0]][u1[1]]['demand']\n",
    "    r_cq2 = graph[u2[0]][u2[1]]['cost']/graph[u2[0]][u2[1]]['demand']\n",
    "    return_cost1 = graph.get_shortest_path(u1[1], depot)[1]\n",
    "    return_cost2 = graph.get_shortest_path(u2[1], depot)[1]\n",
    "    # print(u1,u2)\n",
    "    if load < capacity/2:\n",
    "        if r_cq1 > r_cq2:\n",
    "            return u1\n",
    "        elif r_cq1 < r_cq2:\n",
    "            return u2\n",
    "        elif return_cost1 > return_cost2:\n",
    "            return u1\n",
    "        elif return_cost1 < return_cost2:\n",
    "            return u2\n",
    "        else:     \n",
    "            return random.choice([u1, u2])\n",
    "    else:\n",
    "        if r_cq1 < r_cq2:\n",
    "            return u1\n",
    "        elif r_cq1 > r_cq2:\n",
    "            return u2\n",
    "        elif return_cost1 < return_cost2:\n",
    "            return u1\n",
    "        elif return_cost1 > return_cost2:\n",
    "            return u2\n",
    "        else:\n",
    "            return random.choice([u1, u2])\n",
    "\n",
    "def ps_to_chromesome(solution):\n",
    "    '''\n",
    "    input pathscanning solution\n",
    "    output chromesome rep\n",
    "    '''\n",
    "    result = list()\n",
    "    for k,v in solution.iteritems():\n",
    "        result += v\n",
    "    return result\n",
    "        \n",
    "def path_scanning(graph, depot):\n",
    "    k = 0\n",
    "    R = defaultdict(dict)\n",
    "    load = defaultdict(dict)\n",
    "    cost = defaultdict(dict)\n",
    "    free_task = set(graph.get_tasks())\n",
    "    while len(free_task) > 0:\n",
    "        k += 1\n",
    "        R[k] = list()\n",
    "        load[k], cost[k] = 0, 0\n",
    "        end = depot\n",
    "        u = None\n",
    "        #print(\"############ beign #############\")\n",
    "        while True:\n",
    "            if len(free_task) == 0:\n",
    "                break\n",
    "            d_min = float('inf')\n",
    "            for f_task in free_task:\n",
    "#                 if f_task == (106,105):\n",
    "#                     print(load[k], graph[f_task[0]][f_task[1]]['demand'])\n",
    "                if graph[f_task[0]][f_task[1]]['demand'] + load[k] > capacity:\n",
    "                    continue\n",
    "                if u == None:\n",
    "                    u = f_task\n",
    "                    d_min = graph.get_shortest_path(end, f_task[0])[1]\n",
    "                d_tmp = graph.get_shortest_path(end, f_task[0])[1]\n",
    "                # print(d_tmp,d_min, end,f_task, u)\n",
    "                if d_tmp < d_min:\n",
    "                    d_min = d_tmp\n",
    "                    u = f_task\n",
    "                elif d_tmp == d_min:\n",
    "                    d_min = d_tmp\n",
    "                    #print(u)\n",
    "                    u = which_better(u, f_task, gf, load[k], capacity, depot)\n",
    "                    #print(u)\n",
    "            if d_min == float('inf'):\n",
    "                break\n",
    "            #if u != None:\n",
    "            R[k].append(u)\n",
    "            free_task.remove(u)\n",
    "            free_task.remove((u[1],u[0]))\n",
    "            cost[k] += graph[u[0]][u[1]]['cost'] + d_min\n",
    "            load[k] += graph[u[0]][u[1]]['demand']\n",
    "            end = u[1]\n",
    "        cost[k] += graph.get_shortest_path(u[1], depot)[1]\n",
    "        #print(\"############ end #############\")\n",
    "    return R, load, cost"
   ]
  },
  {
   "cell_type": "markdown",
   "metadata": {},
   "source": [
    "### Augment-merge"
   ]
  },
  {
   "cell_type": "code",
   "execution_count": 11,
   "metadata": {},
   "outputs": [],
   "source": [
    "def concate_circles(graph, circle1, circle2, idx1, idx2):\n",
    "    \"\"\"\n",
    "    params: circle: the path\n",
    "    return [circle_list, overpapping_best, cost_largest]\n",
    "    \"\"\"\n",
    "    overlapping_best = (0, 0)\n",
    "    cost_largest = 0 # largest saving cost\n",
    "    for p1, val1 in enumerate(circle1[-1:-1-idx1:-1]):\n",
    "        for p2, val2 in enumerate(circle2[0:idx2]):\n",
    "            if val1 == val2:\n",
    "                cost_save_1 = Graph.calculate_path_cost(gf,circle1[-1:-1-p1-1])\n",
    "                cost_save_2 = Graph.calculate_path_cost(gf,circle2[0:p2+1])\n",
    "                save_total = cost_save_1 + cost_save_2\n",
    "                if cost_largest<save_total:\n",
    "                    overlapping_best = (p1,p2)\n",
    "                    cost_largest = save_total\n",
    "#     if cost_largest is 0:\n",
    "#         print(\"gg\", circle1, circle2, idx1, idx2)\n",
    "    return circle1[:-1-overlapping_best[0]]+circle2[overlapping_best[1]:], overlapping_best, cost_largest\n",
    "\n",
    "def get_first_last_req(circle):\n",
    "    \"\"\"\n",
    "    params circle: dict\n",
    "    \"\"\"\n",
    "    first, last = 0, 0\n",
    "    for idx, val in enumerate(circle['circle'][-1::-1]):\n",
    "        required = False\n",
    "        for required_e in circle['aq_set']:\n",
    "            if val in required_e:\n",
    "                last = idx\n",
    "                # print(val, required_e)\n",
    "                required = True\n",
    "                break\n",
    "        if required:\n",
    "            break\n",
    "    for idx, val in enumerate(circle['circle']):\n",
    "        required = False\n",
    "        for required_e in circle['aq_set']:\n",
    "            if val in required_e:\n",
    "                first = idx\n",
    "                required = True\n",
    "                break\n",
    "        if required:\n",
    "            break\n",
    "    return first,last\n",
    "\n",
    "def merge_circles(graph, circle1, circle2):\n",
    "    if circle1['load'] + circle2['load'] > capacity:\n",
    "        return None\n",
    "    idx1 = get_first_last_req(circle1)\n",
    "    idx2 = get_first_last_req(circle2)\n",
    "    # print(idx1,idx2)\n",
    "    results = list()\n",
    "    results.append(concate_circles(graph, circle1['circle'], circle2['circle'], idx1[1], idx2[0]))\n",
    "    results.append(concate_circles(graph, circle1['circle'][::-1], circle2['circle'], idx1[0], idx2[0]))\n",
    "    results.append(concate_circles(graph, circle2['circle'], circle1['circle'], idx2[1], idx1[0]))\n",
    "    results.append(concate_circles(graph, circle2['circle'], circle1['circle'][::-1], idx2[1], idx1[1]))\n",
    "    max_save = 0\n",
    "    new_circle = None\n",
    "    for result in results:\n",
    "        if result[2]>=max_save:\n",
    "            new_circle = result[0]\n",
    "            max_save = result[2]\n",
    "    if new_circle == None:\n",
    "        # print(results)\n",
    "        return None\n",
    "    return {'circle':new_circle,'cost':circle1['cost']+circle2['cost']-max_save, 'saving': max_save, \n",
    "            'load':circle1['load'] + circle2['load'], 'aq_set':circle1['aq_set'].union(circle2['aq_set'])}"
   ]
  },
  {
   "cell_type": "code",
   "execution_count": 12,
   "metadata": {},
   "outputs": [],
   "source": [
    "\n",
    "def pairwise(iterable):\n",
    "    \"s -> (s0,s1), (s1,s2), (s2, s3), ...\"\n",
    "    a, b = tee(iterable)\n",
    "    next(b, None)\n",
    "    return izip(a, b)\n",
    "\n",
    "def is_inclueded(path, target):\n",
    "    inv_target =  (target[1], target[0])\n",
    "    for edge in pairwise(path):\n",
    "        # print(target, edge)\n",
    "        if target == edge or inv_target == edge:\n",
    "            return True\n",
    "    return False\n",
    "\n",
    "def augment_merge(graph, depot):\n",
    "    # init routes\n",
    "    k = 0\n",
    "    free_tasks = set(graph.get_tasks_unique())\n",
    "    R = defaultdict(dict)\n",
    "    # cost = defaultdict(dict)\n",
    "    for f_task in free_tasks:\n",
    "        x = graph.get_shortest_path(depot, f_task[0])\n",
    "        y = graph.get_shortest_path(f_task[1], depot)\n",
    "        if x[1]==0:\n",
    "            x = ([depot,],y[1])\n",
    "        if y[1]==0:\n",
    "            y[0] = ([depot,],x[1])\n",
    "        R[k]['circle'] = x[0]+y[0]\n",
    "        R[k]['cost'] = x[1]+y[1]\n",
    "        R[k]['load'] = graph[f_task[0]][f_task[1]]['demand']\n",
    "        R[k]['aq_set'] = set()\n",
    "        R[k]['aq_set'].add(f_task)\n",
    "        #print(f_task, R[k], cost[k])\n",
    "        k += 1\n",
    "    # augment phase\n",
    "    R_sorted = sorted(R.iteritems(), key=lambda (k,v):len(v['circle']), reverse=True)\n",
    "    deleted = set()\n",
    "    for idx, circle in enumerate(R_sorted):\n",
    "        for smaller_circle in R_sorted[idx+1:]:\n",
    "            if smaller_circle[0] in deleted:\n",
    "                continue\n",
    "            if circle[1]['load'] + smaller_circle[1]['load'] > capacity:\n",
    "                continue\n",
    "            #print(smaller_circle[1][1]['aq_set'])\n",
    "            flag_include = True\n",
    "            for edge in smaller_circle[1]['aq_set']:\n",
    "                #print(circle)\n",
    "                if not is_inclueded(circle[1]['circle'],edge):\n",
    "                    flag_include = False\n",
    "            if flag_include:\n",
    "                deleted.add(smaller_circle[0])\n",
    "                circle[1]['aq_set'] = circle[1]['aq_set'].union(smaller_circle[1]['aq_set'])\n",
    "                circle[1]['load'] += smaller_circle[1]['load']\n",
    "                #print(\"[oK]\", circle, smaller_circle)\n",
    "    R_aug = list()\n",
    "    for circle in R_sorted:\n",
    "        if circle[0] not in deleted:\n",
    "            circle[1]['delete'] = False\n",
    "            R_aug.append(circle[1])\n",
    "    '''\n",
    "    no augment phase\n",
    "    \n",
    "    deleted = set()\n",
    "    R_sorted = sorted(R.iteritems(), key=lambda (k,v):len(v['circle']), reverse=True)\n",
    "#     for idx, circle in enumerate(R_sorted):\n",
    "#         for edge in free_tasks:\n",
    "#             if is_inclueded(circle[1]['circle'],edge):\n",
    "#                 circle[1]['aq_set'].add(edge)\n",
    "#                 circle[1]['load'] += graph[edge[0]][edge[1]]['demand']\n",
    "#                 if circle[1]['load'] > capacity:\n",
    "#                     print(circle[1]['load'])\n",
    "#                     deleted.add(circle[0])\n",
    "#                     break\n",
    "    #print(R_sorted)\n",
    "    R_aug = list()\n",
    "    for circle in R_sorted:\n",
    "        circle[1]['delete'] = False\n",
    "        R_aug.append(circle[1])\n",
    "'''\n",
    "    # merge phase\n",
    "    while True:\n",
    "        merge_res = list()\n",
    "        merge_next = list()\n",
    "        for idx1, circle1 in enumerate(R_aug):\n",
    "            for idx2, circle2 in enumerate(R_aug[idx1+1:]):\n",
    "                #print(graph, circle1, circle2)\n",
    "                tmp = merge_circles(graph, circle1, circle2)\n",
    "                if tmp:\n",
    "                    merge_res.append((tmp, idx1, idx1+idx2+1))\n",
    "                    #print(tmp, idx1, idx2+idx1+1, circle1, circle2)\n",
    "        if len(merge_res) is 0:\n",
    "            break\n",
    "        merge_res = sorted(merge_res, key=lambda (tmp,idx1,idx2):tmp['saving'], reverse=True)\n",
    "        for merger in merge_res:\n",
    "            if not R_aug[merger[1]]['delete'] and not R_aug[merger[2]]['delete']:\n",
    "                # print(merger[1],merger[2])\n",
    "                R_aug[merger[1]]['delete'] = True\n",
    "                R_aug[merger[2]]['delete'] = True\n",
    "                del(merger[0]['saving'])\n",
    "                merger[0]['delete'] = False\n",
    "                merge_next.append(merger[0])\n",
    "        for circle in R_aug:\n",
    "            if not circle['delete']:\n",
    "                # print(circle)\n",
    "                merge_next.append(circle)\n",
    "        R_aug = merge_next\n",
    "    R_final = R_aug\n",
    "    \"\"\"\n",
    "    augment\n",
    "    \"\"\"\n",
    "    \"\"\"\n",
    "    for idx, circle in enumerate(R_aug):\n",
    "        for edge in free_tasks:\n",
    "            if is_inclueded(circle['circle'],edge):\n",
    "                if circle['load'] + graph[edge[0]][edge[1]]['demand'] > capacity:\n",
    "                    continue\n",
    "                circle['aq_set'].add(edge)\n",
    "                circle['load'] += graph[edge[0]][edge[1]]['demand']\n",
    "    deleted = set()\n",
    "    R_final = sorted(R_final, key=lambda v:len(v['circle']), reverse=True)\n",
    "    for idx, circle in enumerate(R_final):\n",
    "        for id2, smaller_circle in enumerate(R_final[idx+1:]):\n",
    "            if id2 + idx + 1 in deleted:\n",
    "                continue\n",
    "            flag_include = True\n",
    "            for edge in smaller_circle['aq_set']:\n",
    "                #print(circle)\n",
    "                if edge not in circle['aq_set']:\n",
    "                    flag_include = False\n",
    "            if flag_include:\n",
    "                deleted.add(id2 + idx + 1)\n",
    "                circle['aq_set'] = circle['aq_set'].union(smaller_circle['aq_set'])\n",
    "                circle['load'] += smaller_circle['load']\n",
    "                #print(\"[oK]\", circle, smaller_circle)\n",
    "    result = list()\n",
    "    for idx, circle in enumerate(R_final):\n",
    "        if idx not in deleted:\n",
    "            result.append(circle)\n",
    "    \"\"\"\n",
    "    return R_final\n",
    "\n",
    "def am_to_chromesome(am_solution):\n",
    "    result = list()\n",
    "    for item in am_solution:\n",
    "        circle = item['circle']\n",
    "        for p in pairwise(circle):\n",
    "            tmp = Graph.get_unique_edge(p)\n",
    "            if tmp in item['aq_set'] and p not in result and p[::-1] not in result:\n",
    "                result.append(p)\n",
    "    return result"
   ]
  },
  {
   "cell_type": "code",
   "execution_count": 13,
   "metadata": {
    "scrolled": false
   },
   "outputs": [
    {
     "name": "stdout",
     "output_type": "stream",
     "text": [
      "(10668, 1394)\n"
     ]
    }
   ],
   "source": [
    "init_solution1 = path_scanning(gf, depot)\n",
    "init_solution2 = augment_merge(gf, depot)\n",
    "def get_cost(solution):\n",
    "    cost = 0\n",
    "    demand = 0\n",
    "    for circle in solution:\n",
    "        cost += circle['cost']\n",
    "        demand += circle['load']\n",
    "    print(cost, demand)\n",
    "get_cost(init_solution2)\n",
    "\n",
    "# print(init_solution1)\n",
    "# print(init_solution2)"
   ]
  },
  {
   "cell_type": "code",
   "execution_count": 14,
   "metadata": {},
   "outputs": [
    {
     "name": "stdout",
     "output_type": "stream",
     "text": [
      "([(1, 116), (116, 117), (117, 119), (117, 2), (118, 114), (114, 113), (113, 112), (112, 107), (107, 110), (110, 112), (110, 111), (106, 105), (97, 98), (107, 106), (105, 104), (104, 102), (66, 62), (62, 63), (63, 64), (64, 65), (56, 55), (55, 54), (55, 140), (140, 49), (49, 48), (139, 33), (12, 13), (107, 108), (108, 109), (66, 67), (67, 68), (67, 69), (69, 71), (71, 72), (72, 73), (87, 86), (86, 85), (85, 84), (84, 82), (82, 80), (80, 79), (79, 78), (78, 77), (77, 46), (46, 43), (43, 37), (37, 36), (36, 38), (38, 39), (39, 40), (124, 126), (126, 130), (43, 44), (44, 45), (45, 34), (34, 139), (33, 11), (11, 12), (20, 22), (27, 28), (95, 96), (96, 97), (73, 44), (11, 8), (8, 6), (6, 5), (8, 9), (13, 14), (24, 25), (11, 27), (27, 25), (24, 20), (28, 30), (30, 32), (28, 29)], 75)\n",
      "([(20, 22), (13, 14), (28, 30), (30, 32), (27, 11), (66, 62), (62, 63), (64, 63), (55, 140), (140, 49), (69, 67), (67, 68), (66, 67), (49, 48), (69, 71), (71, 72), (72, 73), (73, 44), (8, 6), (6, 5), (107, 110), (110, 112), (110, 111), (95, 96), (96, 97), (97, 98), (107, 108), (108, 109), (124, 126), (126, 130), (43, 37), (37, 36), (36, 38), (40, 39), (39, 38), (114, 113), (113, 112), (112, 107), (107, 106), (106, 105), (105, 104), (104, 102), (64, 65), (56, 55), (55, 54), (114, 118), (1, 116), (116, 117), (117, 2), (117, 119), (87, 86), (24, 20), (34, 139), (139, 33), (33, 11), (11, 8), (8, 9), (13, 12), (12, 11), (86, 85), (85, 84), (84, 82), (82, 80), (80, 79), (79, 78), (78, 77), (77, 46), (46, 43), (43, 44), (44, 45), (45, 34), (29, 28), (28, 27), (27, 25), (25, 24)], 75)\n"
     ]
    }
   ],
   "source": [
    "p1 = ps_to_chromesome(init_solution1[0])\n",
    "p2 = am_to_chromesome(init_solution2)\n",
    "print(p1, len(p1))\n",
    "print(p2, len(p2))\n",
    "# print(init_solution2)"
   ]
  },
  {
   "cell_type": "markdown",
   "metadata": {},
   "source": [
    "## Metaheuristics"
   ]
  },
  {
   "cell_type": "code",
   "execution_count": 98,
   "metadata": {},
   "outputs": [],
   "source": [
    "def chromesome_partition(chromesome, graph):\n",
    "    aux_graph = DiGraph()\n",
    "#     for task1, task2 in pairwise(chromesome):\n",
    "#         # print(task1, task2)\n",
    "#         aux_graph.add_weighted_edge((task1, task2), graph.get_shortest_path(task1[1], task2[0])[1])\n",
    "    aux_graph.add_weighted_edge((, chromesome[0]), graph.get_shortest_path(depot, task1[0])[1])\n",
    "    for idx1, task1 in enumerate(chromesome):\n",
    "        if idx1+1 == len(chromesome):\n",
    "            break\n",
    "        load = graph[task1[0]][task1[1]]['demand']\n",
    "        cost = \n",
    "        for idx2, task2 in enumerate(chromesome[idx1+1:]):\n",
    "            if load + graph[task2[0]][task2[1]]['demand'] > capacity:\n",
    "                continue\n",
    "            cost += graph.get_shortest_path(task1[1], task2[0])[1]\n",
    "            aux_graph.add_weighted_edge((task1, task2), cost+graph.get_shortest_path(task2[1], depot)[1])\n",
    "            load += graph[task2[0]][task2[1]]['demand']\n",
    "#     print(chromesome[0],chromesome[-1])\n",
    "    result = aux_graph.get_shortest_path((chromesome[0],chromesome[-1]))\n",
    "    return aux_graph, result"
   ]
  },
  {
   "cell_type": "code",
   "execution_count": 99,
   "metadata": {
    "scrolled": true
   },
   "outputs": [
    {
     "name": "stdout",
     "output_type": "stream",
     "text": [
      "(1, 116)\n",
      "(28, 29)\n"
     ]
    }
   ],
   "source": [
    "aux_gf, result = chromesome_partition(p1, gf)"
   ]
  },
  {
   "cell_type": "code",
   "execution_count": 100,
   "metadata": {
    "scrolled": false
   },
   "outputs": [
    {
     "name": "stdout",
     "output_type": "stream",
     "text": [
      "{(28, 29): {'cost': 843}}\n",
      "([(1, 116), (114, 113), (87, 86), (82, 80), (37, 36), (28, 30), (28, 29)], 5824)\n"
     ]
    }
   ],
   "source": [
    "print(aux_gf[30,32])\n",
    "print(result)"
   ]
  },
  {
   "cell_type": "markdown",
   "metadata": {},
   "source": [
    "## Solution-related\n",
    "\n",
    "### output example\n",
    "\n",
    "```\n",
    "s 0,(1,2),(2,4),(4,1),0,0,(4,3),(3,1),0\n",
    "q 15\n",
    "```"
   ]
  },
  {
   "cell_type": "code",
   "execution_count": null,
   "metadata": {},
   "outputs": [],
   "source": []
  }
 ],
 "metadata": {
  "kernelspec": {
   "display_name": "Python 2",
   "language": "python",
   "name": "python2"
  },
  "language_info": {
   "codemirror_mode": {
    "name": "ipython",
    "version": 2
   },
   "file_extension": ".py",
   "mimetype": "text/x-python",
   "name": "python",
   "nbconvert_exporter": "python",
   "pygments_lexer": "ipython2",
   "version": "2.7.12"
  }
 },
 "nbformat": 4,
 "nbformat_minor": 2
}
