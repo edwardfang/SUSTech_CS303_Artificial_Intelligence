{
 "cells": [
  {
   "cell_type": "code",
   "execution_count": 384,
   "metadata": {},
   "outputs": [],
   "source": [
    "import numpy as np\n",
    "import graph\n",
    "from graph import Graph\n",
    "from collections import defaultdict"
   ]
  },
  {
   "cell_type": "markdown",
   "metadata": {},
   "source": [
    "## Preparation Functions/Classes"
   ]
  },
  {
   "cell_type": "code",
   "execution_count": 2,
   "metadata": {},
   "outputs": [],
   "source": [
    "def read_instance_file(filename):\n",
    "    '''\n",
    "    ::param: filename: string, filename that indicates the location of instance data file\n",
    "    ::return value: (specification, data)\n",
    "    :: specification: dict, specification of the instance\n",
    "    :: data: the numpy array with a list of edges and their cost, demand\n",
    "    :: data: [vertex1 vertex2 cost demand]\n",
    "    '''\n",
    "    fd = open(inputfile)\n",
    "    content = fd.readlines()\n",
    "    content = [x.strip() for x in content] \n",
    "    specification = dict()\n",
    "    for i in range(8):\n",
    "        line = content[i].split(':')\n",
    "        specification[line[0].strip()] = line[1].strip()\n",
    "    # print(specification)\n",
    "    data = list()\n",
    "    for line in content[9:-1]:\n",
    "        tmp = line.split()\n",
    "        data.append([int(x.strip()) for x in tmp])\n",
    "    data = np.array(data)\n",
    "    fd.close()\n",
    "    return specification, data"
   ]
  },
  {
   "cell_type": "code",
   "execution_count": 3,
   "metadata": {},
   "outputs": [],
   "source": [
    "'''\n",
    "filelist CARP_samples\n",
    "egl-e1-A.dat  gdb10.dat  val1A.dat  val7A.dat\n",
    "egl-s1-A.dat  gdb1.dat   val4A.dat\n",
    "'''\n",
    "inputfile = 'CARP_samples/egl-s1-A.dat'"
   ]
  },
  {
   "cell_type": "code",
   "execution_count": 383,
   "metadata": {},
   "outputs": [
    {
     "data": {
      "text/plain": [
       "<module 'graph' from 'graph.py'>"
      ]
     },
     "execution_count": 383,
     "metadata": {},
     "output_type": "execute_result"
    }
   ],
   "source": [
    "# reload graph.py\n",
    "reload(graph)"
   ]
  },
  {
   "cell_type": "markdown",
   "metadata": {},
   "source": [
    "## Read the graph into Data Structure"
   ]
  },
  {
   "cell_type": "code",
   "execution_count": 359,
   "metadata": {},
   "outputs": [],
   "source": [
    "spec, data = read_instance_file(inputfile)\n",
    "gf = Graph()\n",
    "gf.load_from_data(data.tolist())"
   ]
  },
  {
   "cell_type": "code",
   "execution_count": 360,
   "metadata": {},
   "outputs": [
    {
     "name": "stdout",
     "output_type": "stream",
     "text": [
      "vertices: 1 2 3 4 5 6 7 8 9 10 11 12 13 14 15 16 17 18 19 20 21 22 23 24 25 26 27 28 29 30 31 32 33 34 35 36 37 38 39 40 41 42 43 44 45 46 47 48 49 50 51 52 53 54 55 56 57 58 59 60 61 62 63 64 65 66 67 68 69 70 71 72 73 74 75 76 77 78 79 80 81 82 83 84 85 86 87 88 89 90 91 92 93 94 95 96 97 98 99 100 101 102 103 104 105 106 107 108 109 110 111 112 113 114 115 116 117 118 119 120 121 122 123 124 125 126 127 128 129 130 131 132 133 134 135 136 137 138 139 140 \n",
      "edges: set([1, 116]) set([2, 117]) set([128, 3]) set([4, 124]) set([5, 6]) set([8, 6]) set([6, 7]) set([8, 9]) set([8, 11]) set([9, 10]) set([10, 19]) set([10, 15]) set([33, 11]) set([11, 27]) set([11, 12]) set([12, 20]) set([12, 13]) set([16, 13]) set([17, 13]) set([13, 14]) set([16, 15]) set([17, 15]) set([17, 18]) set([18, 19]) set([24, 20]) set([20, 21]) set([20, 22]) set([21, 23]) set([24, 23]) set([26, 23]) set([24, 25]) set([25, 26]) set([25, 27]) set([26, 31]) set([27, 28]) set([28, 29]) set([28, 30]) set([33, 29]) set([32, 30]) set([30, 31]) set([33, 139]) set([34, 35]) set([34, 139]) set([34, 45]) set([35, 36]) set([35, 37]) set([36, 37]) set([36, 38]) set([42, 37]) set([43, 37]) set([41, 38]) set([38, 39]) set([40, 39]) set([40, 41]) set([41, 47]) set([42, 43]) set([42, 47]) set([43, 44]) set([43, 46]) set([73, 44]) set([44, 45]) set([60, 45]) set([77, 46]) set([46, 47]) set([48, 49]) set([48, 50]) set([48, 139]) set([49, 140]) set([49, 61]) set([50, 51]) set([51, 52]) set([52, 53]) set([140, 53]) set([140, 54]) set([54, 55]) set([56, 55]) set([140, 55]) set([56, 57]) set([56, 65]) set([57, 58]) set([57, 62]) set([58, 59]) set([58, 70]) set([59, 60]) set([59, 61]) set([60, 61]) set([66, 62]) set([62, 63]) set([64, 63]) set([93, 63]) set([64, 65]) set([64, 93]) set([66, 91]) set([66, 67]) set([66, 101]) set([67, 68]) set([67, 69]) set([90, 68]) set([69, 70]) set([69, 71]) set([70, 71]) set([72, 71]) set([75, 71]) set([72, 73]) set([72, 74]) set([73, 74]) set([74, 76]) set([75, 76]) set([76, 77]) set([77, 78]) set([78, 79]) set([80, 79]) set([81, 79]) set([80, 81]) set([80, 82]) set([81, 83]) set([82, 92]) set([82, 83]) set([82, 84]) set([83, 84]) set([84, 92]) set([84, 85]) set([85, 86]) set([88, 86]) set([86, 87]) set([122, 87]) set([88, 89]) set([88, 90]) set([89, 92]) set([90, 91]) set([91, 118]) set([91, 103]) set([93, 94]) set([101, 94]) set([100, 94]) set([94, 95]) set([96, 95]) set([96, 97]) set([96, 99]) set([97, 98]) set([97, 99]) set([99, 100]) set([101, 102]) set([104, 102]) set([102, 103]) set([113, 103]) set([104, 105]) set([105, 106]) set([106, 107]) set([106, 108]) set([112, 107]) set([107, 108]) set([107, 110]) set([108, 109]) set([112, 110]) set([110, 111]) set([112, 113]) set([113, 114]) set([114, 115]) set([114, 118]) set([115, 116]) set([115, 117]) set([116, 117]) set([117, 118]) set([117, 119]) set([121, 118]) set([120, 119]) set([120, 121]) set([120, 123]) set([121, 122]) set([122, 123]) set([123, 124]) set([123, 125]) set([124, 126]) set([138, 125]) set([130, 126]) set([131, 126]) set([126, 127]) set([128, 127]) set([129, 127]) set([128, 129]) set([138, 131]) set([131, 132]) set([132, 133]) set([133, 134]) set([133, 135]) set([136, 134]) set([134, 135]) set([136, 137]) set([136, 138]) \n",
      "{'NON-REQUIRED EDGES': '115', 'VEHICLES': '7', 'CAPACITY': '210', 'NAME': 'egl-s1-A', 'TOTAL COST OF REQUIRED EDGES': '1394', 'REQUIRED EDGES': '75', 'VERTICES': '140', 'DEPOT': '1'}\n",
      "set([(54, 55), (24, 20), (73, 72), (72, 73), (126, 124), (110, 111), (86, 87), (140, 55), (113, 112), (96, 97), (85, 84), (82, 80), (44, 45), (107, 108), (36, 37), (6, 5), (27, 28), (55, 54), (105, 104), (80, 79), (98, 97), (105, 106), (97, 98), (12, 11), (49, 48), (55, 56), (69, 67), (118, 114), (56, 55), (2, 117), (67, 68), (106, 107), (30, 32), (8, 9), (27, 11), (43, 46), (111, 110), (46, 43), (45, 44), (12, 13), (139, 34), (116, 1), (28, 27), (8, 6), (80, 82), (1, 116), (113, 114), (117, 119), (45, 34), (62, 66), (107, 106), (139, 33), (66, 67), (72, 71), (110, 112), (38, 39), (77, 78), (79, 80), (39, 38), (24, 25), (84, 85), (78, 79), (44, 73), (107, 112), (40, 39), (37, 43), (28, 29), (9, 8), (34, 139), (37, 36), (78, 77), (96, 95), (97, 96), (95, 96), (65, 64), (22, 20), (13, 12), (102, 104), (107, 110), (27, 25), (119, 117), (55, 140), (84, 82), (33, 11), (39, 40), (82, 84), (86, 85), (11, 27), (48, 49), (67, 66), (114, 118), (20, 22), (71, 69), (140, 49), (114, 113), (108, 107), (112, 110), (79, 78), (43, 44), (73, 44), (112, 113), (6, 8), (20, 24), (11, 8), (25, 24), (85, 86), (68, 67), (130, 126), (32, 30), (71, 72), (38, 36), (29, 28), (49, 140), (5, 6), (87, 86), (14, 13), (104, 105), (25, 27), (64, 63), (63, 64), (126, 130), (110, 107), (109, 108), (28, 30), (43, 37), (108, 109), (30, 28), (104, 102), (33, 139), (106, 105), (77, 46), (8, 11), (66, 62), (117, 116), (62, 63), (44, 43), (63, 62), (11, 12), (112, 107), (36, 38), (64, 65), (124, 126), (67, 69), (13, 14), (69, 71), (117, 2), (46, 77), (116, 117), (34, 45), (11, 33)])\n"
     ]
    }
   ],
   "source": [
    "print(gf)\n",
    "print(spec)\n",
    "print(gf.get_tasks())"
   ]
  },
  {
   "cell_type": "code",
   "execution_count": 361,
   "metadata": {},
   "outputs": [],
   "source": [
    "capacity = int(spec['CAPACITY'])\n",
    "depot = int(spec['DEPOT'])"
   ]
  },
  {
   "cell_type": "code",
   "execution_count": 362,
   "metadata": {},
   "outputs": [
    {
     "data": {
      "text/plain": [
       "([1,\n",
       "  116,\n",
       "  117,\n",
       "  119,\n",
       "  120,\n",
       "  121,\n",
       "  122,\n",
       "  87,\n",
       "  86,\n",
       "  85,\n",
       "  84,\n",
       "  82,\n",
       "  80,\n",
       "  79,\n",
       "  78,\n",
       "  77,\n",
       "  46,\n",
       "  43,\n",
       "  44,\n",
       "  45,\n",
       "  34,\n",
       "  139,\n",
       "  33,\n",
       "  11,\n",
       "  12,\n",
       "  13,\n",
       "  17,\n",
       "  18],\n",
       " 423)"
      ]
     },
     "execution_count": 362,
     "metadata": {},
     "output_type": "execute_result"
    }
   ],
   "source": [
    "# test\n",
    "gf.get_shortest_path(1,18)"
   ]
  },
  {
   "cell_type": "code",
   "execution_count": 363,
   "metadata": {},
   "outputs": [
    {
     "data": {
      "text/plain": [
       "{9: {'cost': 12}, 15: {'cost': 13}, 19: {'cost': 28}}"
      ]
     },
     "execution_count": 363,
     "metadata": {},
     "output_type": "execute_result"
    }
   ],
   "source": [
    "gf[10]"
   ]
  },
  {
   "cell_type": "markdown",
   "metadata": {},
   "source": [
    "## Initialization\n",
    "### Path-Scanning Simple"
   ]
  },
  {
   "cell_type": "code",
   "execution_count": 364,
   "metadata": {},
   "outputs": [],
   "source": [
    "def which_better(u1, u2, graph, load, capacity, depot):\n",
    "    import random\n",
    "    r_cq1 = graph[u1[0]][u1[1]]['cost']/graph[u1[0]][u1[1]]['demand']\n",
    "    r_cq2 = graph[u2[0]][u2[1]]['cost']/graph[u2[0]][u2[1]]['demand']\n",
    "    return_cost1 = graph.get_shortest_path(u1[1], depot)[1]\n",
    "    return_cost2 = graph.get_shortest_path(u2[1], depot)[1]\n",
    "    # print(u1,u2)\n",
    "    if load < capacity/2:\n",
    "        if r_cq1 > r_cq2:\n",
    "            return u1\n",
    "        elif r_cq1 < r_cq2:\n",
    "            return u2\n",
    "        elif return_cost1 > return_cost2:\n",
    "            return u1\n",
    "        elif return_cost1 < return_cost2:\n",
    "            return u2\n",
    "        else:     \n",
    "            return random.choice([u1, u2])\n",
    "    else:\n",
    "        if r_cq1 < r_cq2:\n",
    "            return u1\n",
    "        elif r_cq1 > r_cq2:\n",
    "            return u2\n",
    "        elif return_cost1 < return_cost2:\n",
    "            return u1\n",
    "        elif return_cost1 > return_cost2:\n",
    "            return u2\n",
    "        else:\n",
    "            return random.choice([u1, u2])\n",
    "\n",
    "def path_scanning(graph, depot):\n",
    "    k = 0\n",
    "    R = defaultdict(dict)\n",
    "    load = defaultdict(dict)\n",
    "    cost = defaultdict(dict)\n",
    "    free_task = set(graph.get_tasks())\n",
    "    while len(free_task) > 0:\n",
    "        k += 1\n",
    "        R[k] = list()\n",
    "        load[k], cost[k] = 0, 0\n",
    "        end = depot\n",
    "        u = None\n",
    "        #print(\"############ beign #############\")\n",
    "        while True:\n",
    "            if len(free_task) == 0:\n",
    "                break\n",
    "            d_min = float('inf')\n",
    "            for f_task in free_task:\n",
    "#                 if f_task == (106,105):\n",
    "#                     print(load[k], graph[f_task[0]][f_task[1]]['demand'])\n",
    "                if graph[f_task[0]][f_task[1]]['demand'] + load[k] > capacity:\n",
    "                    continue\n",
    "                if u == None:\n",
    "                    u = f_task\n",
    "                    d_min = graph.get_shortest_path(end, f_task[0])[1]\n",
    "                d_tmp = graph.get_shortest_path(end, f_task[0])[1]\n",
    "                # print(d_tmp,d_min, end,f_task, u)\n",
    "                if d_tmp < d_min:\n",
    "                    d_min = d_tmp\n",
    "                    u = f_task\n",
    "                elif d_tmp == d_min:\n",
    "                    d_min = d_tmp\n",
    "                    #print(u)\n",
    "                    u = which_better(u, f_task, gf, load[k], capacity, depot)\n",
    "                    #print(u)\n",
    "            if d_min == float('inf'):\n",
    "                break\n",
    "            #if u != None:\n",
    "            R[k].append(u)\n",
    "            free_task.remove(u)\n",
    "            free_task.remove((u[1],u[0]))\n",
    "            cost[k] += graph[u[0]][u[1]]['cost'] + d_min\n",
    "            load[k] += graph[u[0]][u[1]]['demand']\n",
    "            end = u[1]\n",
    "        cost[k] += graph.get_shortest_path(u[1], depot)[1]\n",
    "        #print(\"############ end #############\")\n",
    "    return R, load, cost"
   ]
  },
  {
   "cell_type": "markdown",
   "metadata": {},
   "source": [
    "### Augment-merge"
   ]
  },
  {
   "cell_type": "code",
   "execution_count": 411,
   "metadata": {},
   "outputs": [],
   "source": [
    "from itertools import tee, izip\n",
    "def pairwise(iterable):\n",
    "    \"s -> (s0,s1), (s1,s2), (s2, s3), ...\"\n",
    "    a, b = tee(iterable)\n",
    "    next(b, None)\n",
    "    return izip(a, b)\n",
    "\n",
    "def is_inclueded(path, target):\n",
    "    inv_target =  (target[1], target[0])\n",
    "    for edge in pairwise(path):\n",
    "        # print(target, edge)\n",
    "        if target == edge or inv_target == edge:\n",
    "            return True\n",
    "    return False\n",
    "  \n",
    "\n",
    "\n",
    "def augment_merge(graph, depot):\n",
    "    # init routes\n",
    "    k = 0\n",
    "    free_tasks = set(graph.get_tasks_unique())\n",
    "    R = defaultdict(dict)\n",
    "    # cost = defaultdict(dict)\n",
    "    for f_task in free_tasks:\n",
    "        x = graph.get_shortest_path(depot, f_task[0])\n",
    "        y = graph.get_shortest_path(f_task[1], depot)\n",
    "        if x[1]==0:\n",
    "            x = ([depot,],y[1])\n",
    "        if y[1]==0:\n",
    "            y[0] = ([depot,],x[1])\n",
    "        R[k]['cycle'] = x[0]+y[0]\n",
    "        R[k]['cost'] = x[1]+y[1]\n",
    "        R[k]['load'] = graph[f_task[0]][f_task[1]]['demand']\n",
    "        R[k]['aq_set'] = set()\n",
    "        R[k]['aq_set'].add(f_task)\n",
    "        #print(f_task, R[k], cost[k])\n",
    "        k += 1\n",
    "    # augment phase\n",
    "    R_sorted = sorted(R.iteritems(), key=lambda (k,v):len(v['cycle']), reverse=True)\n",
    "    deleted = set()\n",
    "    for idx, circle in enumerate(R_sorted):\n",
    "        for smaller_circle in R_sorted[idx+1:]:\n",
    "            if smaller_circle[0] in deleted:\n",
    "                continue\n",
    "            if circle[1]['load'] + smaller_circle[1]['load'] > capacity:\n",
    "                continue\n",
    "            #print(smaller_circle[1][1]['aq_set'])\n",
    "            flag_include = True\n",
    "            for edge in smaller_circle[1]['aq_set']:\n",
    "                #print(circle)\n",
    "                if not is_inclueded(circle[1]['cycle'],edge):\n",
    "                    flag_include = False\n",
    "            if flag_include:\n",
    "                deleted.add(smaller_circle[0])\n",
    "                circle[1]['aq_set'] = circle[1]['aq_set'].union(smaller_circle[1]['aq_set'])\n",
    "                circle[1]['load'] += smaller_circle[1]['load']\n",
    "                #print(\"[oK]\", circle, smaller_circle)\n",
    "    R = list()\n",
    "    for circle in R_sorted:\n",
    "        if circle[0] not in deleted:\n",
    "            R.append(circle[1])\n",
    "    return R\n",
    "    # merge phase\n"
   ]
  },
  {
   "cell_type": "code",
   "execution_count": 427,
   "metadata": {},
   "outputs": [
    {
     "name": "stdout",
     "output_type": "stream",
     "text": [
      "[{'load': 208, 'cost': 873, 'aq_set': set([(8, 9), (11, 33), (12, 13), (34, 139), (8, 11), (33, 139), (11, 12)]), 'cycle': [1, 116, 117, 119, 120, 121, 122, 87, 86, 85, 84, 82, 80, 79, 78, 77, 46, 43, 44, 45, 34, 139, 33, 11, 8, 9, 10, 15, 17, 13, 12, 11, 33, 139, 34, 45, 44, 43, 46, 77, 78, 79, 80, 82, 84, 85, 86, 87, 122, 121, 120, 119, 117, 116, 1]}, {'load': 208, 'cost': 870, 'aq_set': set([(85, 86), (84, 85), (27, 28), (79, 80), (77, 78), (46, 77), (82, 84), (24, 25), (44, 45), (34, 45), (25, 27), (78, 79), (43, 46), (28, 29), (43, 44), (80, 82)]), 'cycle': [1, 116, 117, 119, 120, 121, 122, 87, 86, 85, 84, 82, 80, 79, 78, 77, 46, 43, 44, 45, 34, 139, 33, 29, 28, 27, 25, 24, 25, 27, 28, 29, 33, 139, 34, 45, 44, 43, 46, 77, 78, 79, 80, 82, 84, 85, 86, 87, 122, 121, 120, 119, 117, 116, 1]}, {'load': 98, 'cost': 871, 'aq_set': set([(116, 117), (117, 119), (86, 87), (1, 116), (20, 24)]), 'cycle': [1, 116, 117, 119, 120, 121, 122, 87, 86, 85, 84, 82, 80, 79, 78, 77, 46, 43, 44, 45, 34, 139, 33, 11, 12, 20, 24, 25, 27, 28, 29, 33, 139, 34, 45, 44, 43, 46, 77, 78, 79, 80, 82, 84, 85, 86, 87, 122, 121, 120, 119, 117, 116, 1]}, {'load': 18, 'cost': 836, 'aq_set': set([(13, 14)]), 'cycle': [1, 116, 117, 119, 120, 121, 122, 87, 86, 85, 84, 82, 80, 79, 78, 77, 46, 43, 44, 45, 34, 139, 33, 11, 12, 13, 14, 13, 12, 11, 33, 139, 34, 45, 44, 43, 46, 77, 78, 79, 80, 82, 84, 85, 86, 87, 122, 121, 120, 119, 117, 116, 1]}, {'load': 10, 'cost': 872, 'aq_set': set([(20, 22)]), 'cycle': [1, 116, 117, 119, 120, 121, 122, 87, 86, 85, 84, 82, 80, 79, 78, 77, 46, 43, 44, 45, 34, 139, 33, 11, 12, 20, 22, 20, 12, 11, 33, 139, 34, 45, 44, 43, 46, 77, 78, 79, 80, 82, 84, 85, 86, 87, 122, 121, 120, 119, 117, 116, 1]}, {'load': 33, 'cost': 848, 'aq_set': set([(30, 32), (28, 30)]), 'cycle': [1, 116, 117, 119, 120, 121, 122, 87, 86, 85, 84, 82, 80, 79, 78, 77, 46, 43, 44, 45, 34, 139, 33, 29, 28, 30, 32, 30, 28, 29, 33, 139, 34, 45, 44, 43, 46, 77, 78, 79, 80, 82, 84, 85, 86, 87, 122, 121, 120, 119, 117, 116, 1]}, {'load': 36, 'cost': 886, 'aq_set': set([(5, 6), (6, 8)]), 'cycle': [1, 116, 117, 119, 120, 121, 122, 87, 86, 85, 84, 82, 80, 79, 78, 77, 46, 43, 44, 45, 34, 139, 33, 11, 8, 6, 5, 6, 8, 11, 33, 139, 34, 45, 44, 43, 46, 77, 78, 79, 80, 82, 84, 85, 86, 87, 122, 121, 120, 119, 117, 116, 1]}, {'load': 50, 'cost': 783, 'aq_set': set([(11, 27)]), 'cycle': [1, 116, 117, 119, 120, 121, 122, 87, 86, 85, 84, 82, 80, 79, 78, 77, 46, 43, 44, 45, 34, 139, 33, 11, 27, 28, 29, 33, 139, 34, 45, 44, 43, 46, 77, 78, 79, 80, 82, 84, 85, 86, 87, 122, 121, 120, 119, 117, 116, 1]}, {'load': 85, 'cost': 624, 'aq_set': set([(36, 37), (39, 40), (38, 39), (36, 38), (37, 43)]), 'cycle': [1, 116, 117, 119, 120, 121, 122, 87, 86, 85, 84, 82, 80, 79, 78, 77, 46, 43, 37, 36, 38, 39, 40, 41, 38, 36, 37, 43, 46, 77, 78, 79, 80, 82, 84, 85, 86, 87, 122, 121, 120, 119, 117, 116, 1]}, {'load': 128, 'cost': 566, 'aq_set': set([(64, 65), (107, 112), (54, 55), (102, 104), (113, 114), (105, 106), (112, 113), (104, 105), (106, 107), (55, 56)]), 'cycle': [1, 116, 115, 114, 113, 112, 107, 106, 105, 104, 102, 101, 94, 93, 64, 65, 56, 55, 54, 55, 56, 65, 64, 93, 94, 101, 102, 104, 105, 106, 107, 112, 113, 114, 115, 116, 1]}, {'load': 14, 'cost': 570, 'aq_set': set([(55, 140)]), 'cycle': [1, 116, 115, 114, 113, 112, 107, 106, 105, 104, 102, 101, 94, 93, 64, 65, 56, 55, 140, 55, 56, 65, 64, 93, 94, 101, 102, 104, 105, 106, 107, 112, 113, 114, 115, 116, 1]}, {'load': 28, 'cost': 519, 'aq_set': set([(97, 98), (96, 97), (95, 96)]), 'cycle': [1, 116, 115, 114, 113, 112, 107, 106, 105, 104, 102, 101, 94, 95, 96, 97, 98, 97, 96, 95, 94, 101, 102, 104, 105, 106, 107, 112, 113, 114, 115, 116, 1]}, {'load': 37, 'cost': 603, 'aq_set': set([(67, 68), (49, 140), (67, 69)]), 'cycle': [1, 116, 117, 118, 91, 90, 68, 67, 69, 70, 58, 59, 61, 49, 140, 55, 56, 65, 64, 93, 94, 101, 102, 104, 105, 106, 107, 112, 113, 114, 115, 116, 1]}, {'load': 69, 'cost': 509, 'aq_set': set([(72, 73), (44, 73), (69, 71), (71, 72)]), 'cycle': [1, 116, 117, 119, 120, 121, 122, 87, 86, 85, 84, 82, 80, 79, 78, 77, 46, 43, 44, 73, 72, 71, 69, 67, 68, 90, 91, 118, 117, 116, 1]}, {'load': 9, 'cost': 455, 'aq_set': set([(63, 64)]), 'cycle': [1, 116, 115, 114, 113, 112, 107, 106, 105, 104, 102, 101, 94, 93, 63, 64, 93, 94, 101, 102, 104, 105, 106, 107, 112, 113, 114, 115, 116, 1]}, {'load': 10, 'cost': 632, 'aq_set': set([(48, 49)]), 'cycle': [1, 116, 117, 118, 91, 90, 68, 67, 69, 70, 58, 59, 61, 49, 48, 49, 61, 59, 58, 70, 69, 67, 68, 90, 91, 118, 117, 116, 1]}, {'load': 44, 'cost': 453, 'aq_set': set([(62, 66), (62, 63)]), 'cycle': [1, 116, 117, 118, 91, 66, 62, 63, 93, 94, 101, 102, 104, 105, 106, 107, 112, 113, 114, 115, 116, 1]}, {'load': 46, 'cost': 329, 'aq_set': set([(126, 130), (124, 126)]), 'cycle': [1, 116, 117, 119, 120, 123, 124, 126, 130, 126, 124, 123, 120, 119, 117, 116, 1]}, {'load': 128, 'cost': 339, 'aq_set': set([(108, 109), (107, 108)]), 'cycle': [1, 116, 115, 114, 113, 112, 107, 108, 109, 108, 107, 112, 113, 114, 115, 116, 1]}, {'load': 20, 'cost': 193, 'aq_set': set([(110, 111), (110, 112)]), 'cycle': [1, 116, 115, 114, 113, 112, 110, 111, 110, 112, 113, 114, 115, 116, 1]}, {'load': 8, 'cost': 186, 'aq_set': set([(107, 110)]), 'cycle': [1, 116, 115, 114, 113, 112, 107, 110, 112, 113, 114, 115, 116, 1]}, {'load': 33, 'cost': 394, 'aq_set': set([(66, 67)]), 'cycle': [1, 116, 117, 118, 91, 66, 67, 68, 90, 91, 118, 117, 116, 1]}, {'load': 58, 'cost': 150, 'aq_set': set([(114, 118)]), 'cycle': [1, 116, 115, 114, 118, 117, 116, 1]}, {'load': 16, 'cost': 90, 'aq_set': set([(2, 117)]), 'cycle': [1, 116, 117, 2, 117, 116, 1]}]\n"
     ]
    }
   ],
   "source": [
    "print(aug_res)"
   ]
  },
  {
   "cell_type": "code",
   "execution_count": 413,
   "metadata": {},
   "outputs": [
    {
     "data": {
      "text/plain": [
       "[(1, 2), (2, 3), (3, 4)]"
      ]
     },
     "execution_count": 413,
     "metadata": {},
     "output_type": "execute_result"
    }
   ],
   "source": [
    "list(pairwise([1,2,3,4]))"
   ]
  },
  {
   "cell_type": "code",
   "execution_count": 414,
   "metadata": {},
   "outputs": [],
   "source": [
    "aug_res = augment_merge(gf,depot)"
   ]
  },
  {
   "cell_type": "code",
   "execution_count": 434,
   "metadata": {},
   "outputs": [],
   "source": [
    "def concate_circles(graph, circle1, circle2, idx1, idx2):\n",
    "    overlapping_best = None\n",
    "    cost_largest = -1\n",
    "    for p1, val1 in enumerate(circle1[-1:-1-idx1:-1]):\n",
    "        for p2, val2 in enumerate(circle2[0:idx2]):\n",
    "            if val1 == val2:\n",
    "                cost_save_1 = Graph.calculate_path_cost(gf,circle1[-1:-1-p1-1])\n",
    "                cost_save_2 = Graph.calculate_path_cost(gf,circle2[0:p2+1])\n",
    "                save_total = cost_save_1 + cost_save_2\n",
    "                if cost_largest<save_total:\n",
    "                    overlapping_best = (p1,p2)\n",
    "                    cost_largest = save_total\n",
    "    return overlapping_best, cost_largest\n",
    "        \n",
    "def merge_circles(circle1, circle2):\n",
    "    idx1, idx2 = 0, 0\n",
    "    if circle1['load'] + circle2['load'] > capacity:\n",
    "        return None\n",
    "    for idx, val in enumerate(circle1['cycle'][::-1]):\n",
    "        required = False\n",
    "        for required_e in circle1['aq_set']:\n",
    "            if val in required_e:\n",
    "                idx1 = idx\n",
    "                #print(val, required_e)\n",
    "                required = True\n",
    "                break\n",
    "            if required:\n",
    "                break\n",
    "    for idx, val in enumerate(circle2['cycle']):\n",
    "        required = False\n",
    "        for required_e in circle2['aq_set']:\n",
    "            if val in required_e:\n",
    "                idx2 = idx\n",
    "                required = True\n",
    "                break\n",
    "            if required:\n",
    "                break\n",
    "    return idx1,idx2"
   ]
  },
  {
   "cell_type": "code",
   "execution_count": 435,
   "metadata": {},
   "outputs": [
    {
     "data": {
      "text/plain": [
       "(4, 4)"
      ]
     },
     "execution_count": 435,
     "metadata": {},
     "output_type": "execute_result"
    }
   ],
   "source": [
    "merge_circles(aug_res[-1],aug_res[-2])"
   ]
  },
  {
   "cell_type": "code",
   "execution_count": 424,
   "metadata": {},
   "outputs": [
    {
     "data": {
      "text/plain": [
       "[1, 116, 117, 2, 117, 116, 1]"
      ]
     },
     "execution_count": 424,
     "metadata": {},
     "output_type": "execute_result"
    }
   ],
   "source": [
    "aug_res[-1]['cycle']"
   ]
  },
  {
   "cell_type": "code",
   "execution_count": 406,
   "metadata": {},
   "outputs": [
    {
     "data": {
      "text/plain": [
       "((2, 2), 46)"
      ]
     },
     "execution_count": 406,
     "metadata": {},
     "output_type": "execute_result"
    }
   ],
   "source": [
    "circle1 = [112, 107, 110, 112, 113, 114, 115, 116]\n",
    "circle2 = [116, 115, 114, 113, 112, 110, 111, 110]\n",
    "idx1 = 3\n",
    "idx2 = 5\n",
    "concate_circles(gf,circle1, circle2, idx1, idx2)"
   ]
  },
  {
   "cell_type": "code",
   "execution_count": null,
   "metadata": {},
   "outputs": [],
   "source": []
  },
  {
   "cell_type": "code",
   "execution_count": 354,
   "metadata": {
    "scrolled": true
   },
   "outputs": [
    {
     "name": "stdout",
     "output_type": "stream",
     "text": [
      "(defaultdict(<type 'dict'>, {1: [(1, 116), (116, 117), (117, 119), (117, 2), (118, 114), (114, 113), (113, 112), (112, 107), (107, 110), (110, 112), (110, 111), (106, 105), (97, 98)], 2: [(107, 106), (105, 104), (104, 102), (66, 62), (62, 63), (63, 64), (64, 65), (56, 55), (55, 54), (55, 140), (140, 49), (49, 48), (139, 33), (12, 13)], 3: [(107, 108), (108, 109), (66, 67), (67, 68), (67, 69), (69, 71), (71, 72), (72, 73)], 4: [(87, 86), (86, 85), (85, 84), (84, 82), (82, 80), (80, 79), (79, 78), (78, 77), (77, 46), (46, 43), (43, 37), (37, 36), (36, 38), (38, 39), (39, 40)], 5: [(124, 126), (126, 130), (43, 44), (44, 45), (45, 34), (34, 139), (33, 11), (11, 12), (20, 22), (27, 28)], 6: [(95, 96), (96, 97), (73, 44), (11, 8), (8, 6), (6, 5), (8, 9), (13, 14), (24, 25)], 7: [(11, 27), (27, 25), (24, 20), (28, 30), (30, 32), (28, 29)]}), defaultdict(<type 'dict'>, {1: 210, 2: 210, 3: 207, 4: 208, 5: 209, 6: 210, 7: 140}), defaultdict(<type 'dict'>, {1: 738, 2: 910, 3: 778, 4: 642, 5: 1097, 6: 1330, 7: 1023}))\n"
     ]
    }
   ],
   "source": [
    "init_solution = path_scanning(gf, 1)\n",
    "print(init_solution)"
   ]
  },
  {
   "cell_type": "code",
   "execution_count": 152,
   "metadata": {},
   "outputs": [
    {
     "data": {
      "text/plain": [
       "{'cost': 25, 'demand': 25}"
      ]
     },
     "execution_count": 152,
     "metadata": {},
     "output_type": "execute_result"
    }
   ],
   "source": [
    "gf[107][108]"
   ]
  },
  {
   "cell_type": "markdown",
   "metadata": {},
   "source": [
    "## Metaheuristics"
   ]
  },
  {
   "cell_type": "code",
   "execution_count": null,
   "metadata": {},
   "outputs": [],
   "source": []
  },
  {
   "cell_type": "markdown",
   "metadata": {},
   "source": [
    "## Solution-related\n",
    "\n",
    "### output example\n",
    "\n",
    "```\n",
    "s 0,(1,2),(2,4),(4,1),0,0,(4,3),(3,1),0\n",
    "q 15\n",
    "```"
   ]
  },
  {
   "cell_type": "code",
   "execution_count": 250,
   "metadata": {},
   "outputs": [
    {
     "data": {
      "text/plain": [
       "False"
      ]
     },
     "execution_count": 250,
     "metadata": {},
     "output_type": "execute_result"
    }
   ],
   "source": [
    "float('inf')<1"
   ]
  },
  {
   "cell_type": "code",
   "execution_count": 332,
   "metadata": {},
   "outputs": [],
   "source": [
    "x = [1,2,5,1,3]"
   ]
  },
  {
   "cell_type": "code",
   "execution_count": 338,
   "metadata": {},
   "outputs": [
    {
     "data": {
      "text/plain": [
       "[5, 2, 1]"
      ]
     },
     "execution_count": 338,
     "metadata": {},
     "output_type": "execute_result"
    }
   ],
   "source": [
    "x[2::-1]"
   ]
  },
  {
   "cell_type": "code",
   "execution_count": null,
   "metadata": {},
   "outputs": [],
   "source": []
  }
 ],
 "metadata": {
  "kernelspec": {
   "display_name": "Python 2",
   "language": "python",
   "name": "python2"
  },
  "language_info": {
   "codemirror_mode": {
    "name": "ipython",
    "version": 2
   },
   "file_extension": ".py",
   "mimetype": "text/x-python",
   "name": "python",
   "nbconvert_exporter": "python",
   "pygments_lexer": "ipython2",
   "version": "2.7.12"
  }
 },
 "nbformat": 4,
 "nbformat_minor": 2
}
