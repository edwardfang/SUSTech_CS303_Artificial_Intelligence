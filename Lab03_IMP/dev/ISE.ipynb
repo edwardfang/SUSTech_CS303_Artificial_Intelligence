{
 "cells": [
  {
   "cell_type": "code",
   "execution_count": 3,
   "metadata": {},
   "outputs": [],
   "source": [
    "import argparse\n",
    "import sys\n",
    "\n",
    "sys.path.insert(0,'..')\n",
    "from utils.digraph import DiGraph\n",
    "from utils.esitimater import Estimater\n",
    "\n",
    "class InfluenceNetwork(DiGraph):\n",
    "    '''\n",
    "    Inheritance from Digraph\n",
    "    '''\n",
    "    def __init__(self):\n",
    "        DiGraph.__init__(self)\n",
    "        self.spec = {'nodes':-1, 'edges':-1}\n",
    "    \n",
    "    def load_from_file(self, filed):\n",
    "        '''\n",
    "        load from the file\n",
    "        '''\n",
    "        lines = filed.readlines()\n",
    "        self.spec['nodes'] = int(lines[0][0])\n",
    "        self.spec['edges'] = int(lines[0][1])\n",
    "        for line in lines[1:]:\n",
    "            data = line.split()\n",
    "            if len(data) == 3:\n",
    "                self.add_weighted_edge((int(data[0]), int(data[1])), float(data[2]))\n",
    "                # print((int(data[0]), int(data[1])), float(data[2]))\n",
    "\n",
    "def loadseeds(filed):\n",
    "    '''\n",
    "    load seeds from the file\n",
    "    '''\n",
    "    seeds = set()\n",
    "    lines = filed.readlines()\n",
    "    for line in lines:\n",
    "        data = line.split()\n",
    "        if len(data) == 1:\n",
    "            seeds.add(int(data[0]))\n",
    "    return seeds"
   ]
  },
  {
   "cell_type": "code",
   "execution_count": 4,
   "metadata": {},
   "outputs": [
    {
     "name": "stdout",
     "output_type": "stream",
     "text": [
      "set([1, 12, 14, 15])\n",
      "[set([9, 4]), set([10, 6]), set([10, 7]), set([1, 11]), set([11, 3]), set([10, 14]), set([14, 6]), set([14, 7]), set([1, 15]), set([4, 15]), set([16, 1]), set([17, 15]), set([2, 18]), set([10, 18]), set([18, 14]), set([18, 7]), set([16, 19]), set([8, 20]), set([2, 20]), set([9, 21]), set([19, 21]), set([17, 21]), set([19, 22]), set([18, 23]), set([16, 25]), set([25, 19]), set([25, 15]), set([18, 26]), set([2, 27]), set([26, 27]), set([8, 28]), set([27, 28]), set([2, 28]), set([26, 28]), set([18, 28]), set([9, 29]), set([2, 29]), set([21, 29]), set([19, 30]), set([25, 30]), set([11, 30]), set([30, 22]), set([8, 31]), set([20, 31]), set([29, 31]), set([32, 18]), set([33, 10]), set([33, 14]), set([17, 34]), set([34, 13]), set([34, 22]), set([34, 15]), set([34, 35]), set([35, 15]), set([36, 30]), set([24, 37]), set([2, 37]), set([21, 37]), set([34, 38]), set([35, 38]), set([37, 38]), set([9, 38]), set([38, 15]), set([17, 38]), set([38, 22]), set([17, 39]), set([34, 39]), set([21, 39]), set([39, 15]), set([40, 37]), set([1, 41]), set([41, 34]), set([41, 37]), set([41, 38]), set([8, 41]), set([41, 15]), set([16, 41]), set([2, 42]), set([10, 42]), set([42, 14]), set([43, 11]), set([1, 43]), set([43, 3]), set([43, 31]), set([34, 44]), set([44, 39]), set([44, 38]), set([44, 30]), set([44, 15]), set([35, 45]), set([3, 45]), set([21, 45]), set([45, 39]), set([46, 38]), set([9, 46]), set([16, 46]), set([19, 46]), set([46, 22]), set([24, 46]), set([25, 46]), set([46, 30]), set([44, 47]), set([48, 1]), set([48, 43]), set([48, 11]), set([48, 21]), set([48, 29]), set([48, 31]), set([50, 35]), set([50, 47]), set([34, 51]), set([51, 43]), set([51, 46]), set([51, 15]), set([17, 51]), set([51, 21]), set([51, 52]), set([52, 5]), set([52, 12]), set([52, 46]), set([19, 52]), set([52, 22]), set([24, 52]), set([25, 52]), set([52, 30]), set([41, 53]), set([53, 39]), set([53, 30]), set([53, 15]), set([44, 54]), set([2, 55]), set([55, 7]), set([8, 55]), set([42, 55]), set([14, 55]), set([20, 55]), set([16, 56]), set([56, 52]), set([57, 6]), set([57, 7]), set([58, 6]), set([58, 7]), set([40, 58]), set([10, 58]), set([58, 14]), set([49, 58]), set([18, 58]), set([58, 55]), set([42, 58]), set([59, 39]), set([16, 60]), set([9, 60]), set([60, 4]), set([60, 37]), set([60, 46]), set([33, 61]), set([3, 62]), set([62, 54]), set([62, 38])]\n"
     ]
    }
   ],
   "source": [
    "network = open('../network.txt')\n",
    "seed_f = open('../seeds.txt')\n",
    "\n",
    "graph = InfluenceNetwork()\n",
    "graph.load_from_file(network)\n",
    "seeds = loadseeds(seed_f)\n",
    "print(seeds)\n",
    "print(graph.edges())\n",
    "\n",
    "network.close()\n",
    "seed_f.close()"
   ]
  },
  {
   "cell_type": "code",
   "execution_count": 5,
   "metadata": {},
   "outputs": [
    {
     "data": {
      "text/plain": [
       "{'weight': 0.333333}"
      ]
     },
     "execution_count": 5,
     "metadata": {},
     "output_type": "execute_result"
    }
   ],
   "source": [
    "graph[9][4]"
   ]
  },
  {
   "cell_type": "code",
   "execution_count": 4,
   "metadata": {},
   "outputs": [
    {
     "data": {
      "text/plain": [
       "{9: {'weight': 0.333333}, 15: {'weight': 0.333333}, 60: {'weight': 0.333333}}"
      ]
     },
     "execution_count": 4,
     "metadata": {},
     "output_type": "execute_result"
    }
   ],
   "source": [
    "graph.inverse[4]"
   ]
  },
  {
   "cell_type": "code",
   "execution_count": 5,
   "metadata": {},
   "outputs": [],
   "source": [
    "import random\n",
    "from __future__ import division"
   ]
  },
  {
   "cell_type": "code",
   "execution_count": 10,
   "metadata": {},
   "outputs": [],
   "source": [
    "def ic_simulate():\n",
    "    activated = set()\n",
    "    next_layer = seeds\n",
    "    while next_layer:\n",
    "        new_layer = set()\n",
    "        for node in next_layer:\n",
    "            for linked_node, value  in graph[node].iteritems():\n",
    "                rnd = random.random()\n",
    "                if linked_node not in activated and rnd < value['weight']:\n",
    "                    new_layer.add(linked_node)\n",
    "        activated = set.union(activated, next_layer)\n",
    "        print(activated)\n",
    "        next_layer = new_layer\n",
    "    return activated\n",
    "\n",
    "def lt_simulate():\n",
    "    activated = seeds\n",
    "    threshold = dict()\n",
    "    for node in graph.vertices():\n",
    "        threshold[node] = random.random()\n",
    "    changed = True\n",
    "    while changed:\n",
    "        changed = False\n",
    "        inactive = set.difference(set(graph.vertices()), activated)\n",
    "        for node in inactive:\n",
    "            indicator = 0 \n",
    "            for linked_node, value  in graph.inverse[node].iteritems():\n",
    "                if linked_node in activated:\n",
    "                    indicator += graph.inverse[node][linked_node]['weight']\n",
    "            if indicator > threshold[node]:\n",
    "                activated.add(node)\n",
    "                changed = True\n",
    "    return activated\n",
    "        \n",
    "        \n",
    "    "
   ]
  },
  {
   "cell_type": "code",
   "execution_count": 11,
   "metadata": {},
   "outputs": [
    {
     "name": "stdout",
     "output_type": "stream",
     "text": [
      "set([1, 12, 14, 15])\n",
      "set([1, 6, 7, 12, 14, 15])\n"
     ]
    },
    {
     "data": {
      "text/plain": [
       "{1, 6, 7, 12, 14, 15}"
      ]
     },
     "execution_count": 11,
     "metadata": {},
     "output_type": "execute_result"
    }
   ],
   "source": [
    "ic_simulate()"
   ]
  },
  {
   "cell_type": "code",
   "execution_count": 12,
   "metadata": {},
   "outputs": [
    {
     "data": {
      "text/plain": [
       "{1, 4, 6, 7, 10, 12, 14, 15}"
      ]
     },
     "execution_count": 12,
     "metadata": {},
     "output_type": "execute_result"
    }
   ],
   "source": [
    "lt_simulate()"
   ]
  },
  {
   "cell_type": "code",
   "execution_count": 13,
   "metadata": {},
   "outputs": [
    {
     "data": {
      "text/plain": [
       "[0, 0, 0, 0, 0, 0, 0, 0, 0, 0, 0, 0, 0, 0, 0, 0, 0, 0, 0]"
      ]
     },
     "execution_count": 13,
     "metadata": {},
     "output_type": "execute_result"
    }
   ],
   "source": [
    "[0]*19"
   ]
  },
  {
   "cell_type": "code",
   "execution_count": 9,
   "metadata": {},
   "outputs": [],
   "source": [
    "import Queue as Q\n",
    "import heapq\n"
   ]
  },
  {
   "cell_type": "code",
   "execution_count": 16,
   "metadata": {},
   "outputs": [
    {
     "data": {
      "text/plain": [
       "False"
      ]
     },
     "execution_count": 16,
     "metadata": {},
     "output_type": "execute_result"
    }
   ],
   "source": [
    "(6,-100)<(3,4)"
   ]
  },
  {
   "cell_type": "code",
   "execution_count": 25,
   "metadata": {},
   "outputs": [],
   "source": [
    "import random"
   ]
  },
  {
   "cell_type": "code",
   "execution_count": 27,
   "metadata": {},
   "outputs": [],
   "source": [
    "from __future__ import division\n",
    "def ic_evaluate(seeds):\n",
    "    cnt = 0\n",
    "    for _ in range(10000):\n",
    "        activated = set()\n",
    "        next_layer = seeds\n",
    "        while next_layer:\n",
    "            new_layer = set()\n",
    "            for node in next_layer:\n",
    "                for linked_node, value  in graph[node].iteritems():\n",
    "                    rnd = random.random()\n",
    "                    if linked_node not in activated and rnd < value['weight']:\n",
    "                        new_layer.add(linked_node)\n",
    "            activated = set.union(activated, next_layer)\n",
    "            next_layer = new_layer\n",
    "        cnt += len(activated)\n",
    "    return cnt/10000"
   ]
  },
  {
   "cell_type": "code",
   "execution_count": 40,
   "metadata": {},
   "outputs": [],
   "source": [
    "num_k = 4\n",
    "\n",
    "def ic_celf():\n",
    "    '''\n",
    "    implementation of CELF\n",
    "    '''\n",
    "    state_list = list()\n",
    "    free_nodes = set(graph.vertices())\n",
    "    cur_spread = 0\n",
    "    cur_set = set()\n",
    "    # init the heap, note this is a minheap\n",
    "    for nodeid in free_nodes:\n",
    "        new_spread = ic_evaluate(set.union(cur_set, {nodeid}))\n",
    "        state_list.append((-new_spread, nodeid))\n",
    "    heapq.heapify(state_list)\n",
    "    inserted_node = heapq.heappop(state_list)\n",
    "    cur_set.add(inserted_node[1])\n",
    "    cur_spread = -inserted_node[0]\n",
    "    free_nodes.remove(inserted_node[1])\n",
    "    cur_max = 1\n",
    "    while len(cur_set) < num_k:\n",
    "        next_node = heapq.heappop(state_list)\n",
    "        if next_node[0] < cur_max:\n",
    "            new_spread = ic_evaluate(set.union(cur_set, {next_node[1]}))\n",
    "            diff = new_spread - cur_spread\n",
    "            next_node = (-diff, next_node[1])\n",
    "            cur_max = next_node[0]\n",
    "            heapq.heappush(state_list, next_node)\n",
    "        else:\n",
    "            inserted_node = heapq.heappop(state_list)\n",
    "            # print(inserted_node)\n",
    "            cur_set.add(inserted_node[1])\n",
    "            cur_spread += -inserted_node[0]\n",
    "            cur_max = 1\n",
    "    return cur_set, cur_spread\n"
   ]
  },
  {
   "cell_type": "code",
   "execution_count": 42,
   "metadata": {},
   "outputs": [
    {
     "name": "stdout",
     "output_type": "stream",
     "text": [
      "(-5.3655, 53)\n",
      "(-3.0679000000000016, 62)\n",
      "(-2.8843999999999994, 50)\n",
      "(set([56, 50, 53, 62]), 22.736)\n",
      "None\n",
      "9.07210183144\n"
     ]
    }
   ],
   "source": [
    "import time\n",
    "st = time.time()\n",
    "print(ic_celf())\n",
    "print(time.time()-st)"
   ]
  },
  {
   "cell_type": "code",
   "execution_count": null,
   "metadata": {},
   "outputs": [],
   "source": []
  }
 ],
 "metadata": {
  "kernelspec": {
   "display_name": "Python 2",
   "language": "python",
   "name": "python2"
  }
 },
 "nbformat": 4,
 "nbformat_minor": 2
}
